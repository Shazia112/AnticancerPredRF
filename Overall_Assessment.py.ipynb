{
 "cells": [
  {
   "cell_type": "code",
   "execution_count": 23,
   "metadata": {},
   "outputs": [],
   "source": [
    "import csv\n",
    "import math\n",
    "import numpy as np\n",
    "import pandas as pd\n",
    "import tensorflow as tf\n",
    "from neupy import algorithms\n",
    "from numpy import interp\n",
    "from scipy import interpolate\n",
    "import matplotlib.pyplot as plt\n",
    "from sklearn import metrics\n",
    "from sklearn.metrics import roc_curve, auc\n",
    "from sklearn.model_selection import StratifiedKFold, KFold\n",
    "from sklearn.naive_bayes import BernoulliNB\n",
    "from sklearn.neighbors import KNeighborsClassifier\n",
    "from sklearn.preprocessing import StandardScaler\n",
    "from sklearn.ensemble import RandomForestClassifier, AdaBoostClassifier\n",
    "from sklearn.metrics import matthews_corrcoef\n",
    "from sklearn.metrics import confusion_matrix\n",
    "from sklearn.neural_network import MLPClassifier\n",
    "from sklearn.svm import SVC\n",
    "from sklearn.decomposition import PCA\n",
    "from sklearn import datasets, metrics\n",
    "import numpy as np\n",
    "import matplotlib.pyplot as plt\n",
    "from sklearn.ensemble import RandomForestClassifier\n",
    "from sklearn.metrics import confusion_matrix, accuracy_score, precision_score, recall_score, matthews_corrcoef\n",
    "from sklearn.preprocessing import StandardScaler\n",
    "from sklearn.model_selection import train_test_split"
   ]
  },
  {
   "cell_type": "code",
   "execution_count": 3,
   "metadata": {},
   "outputs": [
    {
     "name": "stdout",
     "output_type": "stream",
     "text": [
      "\n",
      "k-fold Cross-Validation\n",
      "The shape of X is: (1144, 210)\n",
      "The shape of Y is: (1144, 1)\n"
     ]
    }
   ],
   "source": [
    "random_state = np.random.RandomState(5)\n",
    "inputSize = 210\n",
    "outputCol = inputSize + 1\n",
    "\n",
    "# 10 Fold Part\n",
    "print('\\nk-fold Cross-Validation')\n",
    "results = pd.DataFrame(columns=['training_score', 'test_score'])\n",
    "fprs, tprs, scores = [], [], []\n",
    "dataset = np.genfromtxt(\"./Anticancer.csv\", delimiter=\",\", dtype=float)\n",
    "X = dataset[:, 0:inputSize]\n",
    "Y = dataset[:, inputSize:outputCol]\n",
    "std_scale = StandardScaler().fit(X)\n",
    "X = std_scale.transform(X)\n",
    "cvscores = []\n",
    "shape_X=X.shape\n",
    "shape_Y=Y.shape\n",
    "print ('The shape of X is: ' + str(shape_X))\n",
    "print ('The shape of Y is: ' + str(shape_Y))"
   ]
  },
  {
   "cell_type": "code",
   "execution_count": 4,
   "metadata": {},
   "outputs": [],
   "source": [
    "#std_scale = StandardScaler().fit(X)\n",
    "##X = np.array(X, dtype='float64')\n",
    "#X = std_scale.transform(X)\n",
    "#X = X[:, ~np.isnan(X).any(axis=0)]          # i change its status to activate\n",
    "#pca = PCA(n_components=2)     # i change its status to activate\n",
    "#pca.fit(X)                                   # i change its status to activate\n",
    "#X = pca.transform(X)                          # i change its status to activate\n",
    "#X.shape\n",
    "#shape_X=X.shape\n",
    "#shape_Y=Y.shape\n",
    "#print ('The shape of X is: ' + str(shape_X))\n",
    "#print ('The shape of Y is: ' + str(shape_Y))\n",
    "\n",
    "#print ('The shape of X is: ' + str(shape_X))"
   ]
  },
  {
   "cell_type": "markdown",
   "metadata": {},
   "source": [
    "# Classification "
   ]
  },
  {
   "cell_type": "code",
   "execution_count": 5,
   "metadata": {},
   "outputs": [],
   "source": [
    "# Run classifier with cross-validation and plot ROC curves\n",
    "cv = StratifiedKFold(n_splits=10, shuffle=True)\n",
    "#classifier = BernoulliNB()\n",
    " #clf = algorithms.PNN(std=10, verbose=False)\n",
    "# classifier = AdaBoostClassifier(n_estimators=100)\n",
    "#classifier = SVC(kernel='linear', probability=True)\n",
    "#classifier = KNeighborsClassifier(n_neighbors=150)\n",
    "#clf = RandomForestClassifier(n_estimators=3, oob_score=True, random_state=29, warm_start=False)\n",
    "#clf = MLPClassifier(solver='lbfgs', alpha=1e-5,hidden_layer_sizes=(9#, 2), random_state=1)\n",
    "tprs = []\n",
    "aucs = []\n",
    "mean_fpr = np.linspace(0, 1, 100)\n"
   ]
  },
  {
   "cell_type": "markdown",
   "metadata": {},
   "source": [
    "# Independent testing Using SVM"
   ]
  },
  {
   "cell_type": "code",
   "execution_count": 6,
   "metadata": {},
   "outputs": [
    {
     "name": "stderr",
     "output_type": "stream",
     "text": [
      "c:\\Users\\Shazia Khan\\anaconda3\\envs\\golf\\lib\\site-packages\\sklearn\\utils\\validation.py:63: DataConversionWarning: A column-vector y was passed when a 1d array was expected. Please change the shape of y to (n_samples, ), for example using ravel().\n",
      "  return f(*args, **kwargs)\n"
     ]
    },
    {
     "data": {
      "image/png": "[encoded data removed]",
      "text/plain": [
       "<Figure size 432x288 with 1 Axes>"
      ]
     },
     "metadata": {
      "needs_background": "light"
     },
     "output_type": "display_data"
    },
    {
     "name": "stdout",
     "output_type": "stream",
     "text": [
      "\n",
      "Training set confusion matrix:\n",
      "True Negative = 368, False Positive = 36, False Negative = 94, True Positive = 302\n",
      "Accuracy = 0.84, Sensitivity = 0.76, Specificity = 0.91, Precision = 0.89, MCC = 0.68\n",
      "\n",
      "Testing set confusion matrix:\n",
      "True Negative = 151, False Positive = 17, False Negative = 43, True Positive = 133\n",
      "Accuracy = 0.83, Sensitivity = 0.76, Specificity = 0.90, Precision = 0.89, MCC = 0.66\n"
     ]
    }
   ],
   "source": [
    "from sklearn.model_selection import train_test_split\n",
    "from sklearn.preprocessing import StandardScaler\n",
    "from sklearn.decomposition import PCA\n",
    "from sklearn.svm import SVC\n",
    "from sklearn.metrics import roc_curve, auc, confusion_matrix\n",
    "import matplotlib.pyplot as plt\n",
    "import numpy as np\n",
    "import math\n",
    "import csv\n",
    "\n",
    "# Assuming X and Y are your data and labels respectively\n",
    "\n",
    "# Split the data into training and testing sets\n",
    "X_train, X_test, y_train, y_test = train_test_split(X, Y, test_size=0.3, random_state=42)\n",
    "\n",
    "# Standardize the data\n",
    "scaler = StandardScaler()\n",
    "X_train_scaled = scaler.fit_transform(X_train)\n",
    "X_test_scaled = scaler.transform(X_test)\n",
    "\n",
    "# Apply PCA for dimensionality reduction\n",
    "pca = PCA(n_components=2)\n",
    "X_train_pca = pca.fit_transform(X_train_scaled)\n",
    "X_test_pca = pca.transform(X_test_scaled)\n",
    "\n",
    "# Train SVM model\n",
    "svm = SVC(kernel='linear', probability=True)\n",
    "svm.fit(X_train_pca, y_train)\n",
    "\n",
    "# Predict on training data\n",
    "y_pred_train = svm.predict(X_train_pca)\n",
    "\n",
    "# Calculate confusion matrix and metrics for training data\n",
    "tn, fp, fn, tp = confusion_matrix(y_train, y_pred_train, labels=[0, 1]).ravel()\n",
    "acc_train = (tp + tn) / (tp + tn + fp + fn)\n",
    "sn_train = tp / (tp + fn)\n",
    "sp_train = tn / (tn + fp)\n",
    "prec_train = tp / (tp + fp)\n",
    "mcc_train = (tp * tn - fp * fn) / math.sqrt((tp + fp) * (tp + fn) * (tn + fp) * (tn + fn))\n",
    "\n",
    "# Predict on testing data\n",
    "y_pred_test = svm.predict(X_test_pca)\n",
    "\n",
    "# Calculate confusion matrix and metrics for testing data\n",
    "tn_test, fp_test, fn_test, tp_test = confusion_matrix(y_test, y_pred_test, labels=[0, 1]).ravel()\n",
    "acc_test = (tp_test + tn_test) / (tp_test + tn_test + fp_test + fn_test)\n",
    "sn_test = tp_test / (tp_test + fn_test)\n",
    "sp_test = tn_test / (tn_test + fp_test)\n",
    "prec_test = tp_test / (tp_test + fp_test)\n",
    "mcc_test = (tp_test * tn_test - fp_test * fn_test) / math.sqrt((tp_test + fp_test) * (tp_test + fn_test) * (tn_test + fp_test) * (tn_test + fn_test))\n",
    "\n",
    "# Calculate ROC curve and AUC for testing data\n",
    "probs = svm.predict_proba(X_test_pca)\n",
    "preds = probs[:, 1]\n",
    "fpr, tpr, threshold = roc_curve(y_test, preds)\n",
    "roc_auc = auc(fpr, tpr)\n",
    "\n",
    "# Plot ROC curve\n",
    "plt.figure()\n",
    "plt.plot(fpr, tpr, color='darkorange', lw=2, label='ROC curve (AUC = %0.2f)' % roc_auc)\n",
    "plt.plot(fpr, tpr, marker='.', label='Independent Testing')\n",
    "\n",
    "plt.plot([0, 1], [0, 1], color='navy', lw=2, linestyle='--')\n",
    "plt.xlim([0.0, 1.0])\n",
    "plt.ylim([0.0, 1.05])\n",
    "plt.xlabel('False Positive Rate')\n",
    "plt.ylabel('True Positive Rate')\n",
    "plt.title('Receiver Operating Characteristic (ROC)')\n",
    "plt.legend(loc=\"lower right\")\n",
    "\n",
    "plt.show()\n",
    "\n",
    "# Print metrics\n",
    "print(\"\\nTraining set confusion matrix:\")\n",
    "print(f\"True Negative = {tn}, False Positive = {fp}, False Negative = {fn}, True Positive = {tp}\")\n",
    "print(f\"Accuracy = {acc_train:.2f}, Sensitivity = {sn_train:.2f}, Specificity = {sp_train:.2f}, Precision = {prec_train:.2f}, MCC = {mcc_train:.2f}\")\n",
    "\n",
    "print(\"\\nTesting set confusion matrix:\")\n",
    "print(f\"True Negative = {tn_test}, False Positive = {fp_test}, False Negative = {fn_test}, True Positive = {tp_test}\")\n",
    "print(f\"Accuracy = {acc_test:.2f}, Sensitivity = {sn_test:.2f}, Specificity = {sp_test:.2f}, Precision = {prec_test:.2f}, MCC = {mcc_test:.2f}\")\n"
   ]
  },
  {
   "cell_type": "markdown",
   "metadata": {},
   "source": [
    "# Confusion Matrix with SVM"
   ]
  },
  {
   "cell_type": "code",
   "execution_count": 7,
   "metadata": {},
   "outputs": [
    {
     "name": "stderr",
     "output_type": "stream",
     "text": [
      "c:\\Users\\Shazia Khan\\anaconda3\\envs\\golf\\lib\\site-packages\\sklearn\\utils\\validation.py:63: DataConversionWarning: A column-vector y was passed when a 1d array was expected. Please change the shape of y to (n_samples, ), for example using ravel().\n",
      "  return f(*args, **kwargs)\n"
     ]
    },
    {
     "data": {
      "image/png": "[encoded data removed]",
      "text/plain": [
       "<Figure size 576x432 with 2 Axes>"
      ]
     },
     "metadata": {
      "needs_background": "light"
     },
     "output_type": "display_data"
    },
    {
     "data": {
      "image/png": "[encoded data removed]",
      "text/plain": [
       "<Figure size 576x432 with 2 Axes>"
      ]
     },
     "metadata": {
      "needs_background": "light"
     },
     "output_type": "display_data"
    },
    {
     "name": "stdout",
     "output_type": "stream",
     "text": [
      "\n",
      "Training set confusion matrix:\n",
      "True Negative = 368, False Positive = 36, False Negative = 94, True Positive = 302\n",
      "Accuracy = 0.84, Sensitivity = 0.76, Specificity = 0.91, Precision = 0.89, MCC = 0.68\n",
      "\n",
      "Testing set confusion matrix:\n",
      "True Negative = 151, False Positive = 17, False Negative = 43, True Positive = 133\n",
      "Accuracy = 0.83, Sensitivity = 0.76, Specificity = 0.90, Precision = 0.89, MCC = 0.66\n"
     ]
    }
   ],
   "source": [
    "from sklearn.model_selection import train_test_split\n",
    "from sklearn.preprocessing import StandardScaler\n",
    "from sklearn.decomposition import PCA\n",
    "from sklearn.svm import SVC\n",
    "from sklearn.metrics import roc_curve, auc, confusion_matrix\n",
    "import matplotlib.pyplot as plt\n",
    "import numpy as np\n",
    "import math\n",
    "\n",
    "# Assuming X and Y are your data and labels respectively\n",
    "# Split the data into training and testing sets\n",
    "X_train, X_test, y_train, y_test = train_test_split(X, Y, test_size=0.3, random_state=42)\n",
    "\n",
    "# Standardize the data\n",
    "scaler = StandardScaler()\n",
    "X_train_scaled = scaler.fit_transform(X_train)\n",
    "X_test_scaled = scaler.transform(X_test)\n",
    "\n",
    "# Apply PCA for dimensionality reduction\n",
    "pca = PCA(n_components=2)\n",
    "X_train_pca = pca.fit_transform(X_train_scaled)\n",
    "X_test_pca = pca.transform(X_test_scaled)\n",
    "\n",
    "# Train SVM model\n",
    "svm = SVC(kernel='linear', probability=True)\n",
    "svm.fit(X_train_pca, y_train)\n",
    "\n",
    "# Predict on training data\n",
    "y_pred_train = svm.predict(X_train_pca)\n",
    "\n",
    "# Calculate confusion matrix and metrics for training data\n",
    "tn, fp, fn, tp = confusion_matrix(y_train, y_pred_train, labels=[0, 1]).ravel()\n",
    "acc_train = (tp + tn) / (tp + tn + fp + fn)\n",
    "sn_train = tp / (tp + fn)\n",
    "sp_train = tn / (tn + fp)\n",
    "prec_train = tp / (tp + fp)\n",
    "mcc_train = (tp * tn - fp * fn) / math.sqrt((tp + fp) * (tp + fn) * (tn + fp) * (tn + fn))\n",
    "\n",
    "# Predict on testing data\n",
    "y_pred_test = svm.predict(X_test_pca)\n",
    "\n",
    "# Calculate confusion matrix and metrics for testing data\n",
    "tn_test, fp_test, fn_test, tp_test = confusion_matrix(y_test, y_pred_test, labels=[0, 1]).ravel()\n",
    "acc_test = (tp_test + tn_test) / (tp_test + tn_test + fp_test + fn_test)\n",
    "sn_test = tp_test / (tp_test + fn_test)\n",
    "sp_test = tn_test / (tn_test + fp_test)\n",
    "prec_test = tp_test / (tp_test + fp_test)\n",
    "mcc_test = (tp_test * tn_test - fp_test * fn_test) / math.sqrt((tp_test + fp_test) * (tp_test + fn_test) * (tn_test + fp_test) * (tn_test + fn_test))\n",
    "\n",
    "# Plot confusion matrix for training data\n",
    "plt.figure(figsize=(8, 6))\n",
    "cm_train = confusion_matrix(y_train, y_pred_train, labels=[0, 1])\n",
    "plt.imshow(cm_train, interpolation='nearest', cmap=plt.cm.Blues)\n",
    "plt.title('Confusion Matrix - Training Data')\n",
    "plt.colorbar()\n",
    "tick_marks = np.arange(len([0, 1]))\n",
    "plt.xticks(tick_marks, [0, 1])\n",
    "plt.yticks(tick_marks, [0, 1])\n",
    "plt.xlabel('Predicted Label')\n",
    "plt.ylabel('True Label')\n",
    "plt.tight_layout()\n",
    "\n",
    "# Add numerical values in each cell\n",
    "thresh = cm_train.max() / 2.\n",
    "for i, j in np.ndindex(cm_train.shape):\n",
    "    plt.text(j, i, format(cm_train[i, j], 'd'),\n",
    "             horizontalalignment=\"center\",\n",
    "             color=\"white\" if cm_train[i, j] > thresh else \"black\")\n",
    "\n",
    "plt.show()\n",
    "\n",
    "# Plot confusion matrix for testing data\n",
    "plt.figure(figsize=(8, 6))\n",
    "cm_test = confusion_matrix(y_test, y_pred_test, labels=[0, 1])\n",
    "plt.imshow(cm_test, interpolation='nearest', cmap=plt.cm.Blues)\n",
    "plt.title('Confusion Matrix - Testing Data')\n",
    "plt.colorbar()\n",
    "tick_marks = np.arange(len([0, 1]))\n",
    "plt.xticks(tick_marks, [0, 1])\n",
    "plt.yticks(tick_marks, [0, 1])\n",
    "plt.xlabel('Predicted Label')\n",
    "plt.ylabel('True Label')\n",
    "plt.tight_layout()\n",
    "\n",
    "# Add numerical values in each cell\n",
    "thresh = cm_test.max() / 2.\n",
    "for i, j in np.ndindex(cm_test.shape):\n",
    "    plt.text(j, i, format(cm_test[i, j], 'd'),\n",
    "             horizontalalignment=\"center\",\n",
    "             color=\"white\" if cm_test[i, j] > thresh else \"black\")\n",
    "\n",
    "plt.show()\n",
    "\n",
    "# Print metrics\n",
    "print(\"\\nTraining set confusion matrix:\")\n",
    "print(f\"True Negative = {tn}, False Positive = {fp}, False Negative = {fn}, True Positive = {tp}\")\n",
    "print(f\"Accuracy = {acc_train:.2f}, Sensitivity = {sn_train:.2f}, Specificity = {sp_train:.2f}, Precision = {prec_train:.2f}, MCC = {mcc_train:.2f}\")\n",
    "\n",
    "print(\"\\nTesting set confusion matrix:\")\n",
    "print(f\"True Negative = {tn_test}, False Positive = {fp_test}, False Negative = {fn_test}, True Positive = {tp_test}\")\n",
    "print(f\"Accuracy = {acc_test:.2f}, Sensitivity = {sn_test:.2f}, Specificity = {sp_test:.2f}, Precision = {prec_test:.2f}, MCC = {mcc_test:.2f}\")\n"
   ]
  },
  {
   "cell_type": "markdown",
   "metadata": {},
   "source": [
    " # Independent Testing Using RF"
   ]
  },
  {
   "cell_type": "code",
   "execution_count": null,
   "metadata": {},
   "outputs": [],
   "source": [
    "from sklearn.model_selection import train_test_split\n",
    "print('\\nIndependent testing')\n",
    "# resultwriter.writerow(['\\n\\rindependent testing'])\n",
    "# create training and testing vars\n",
    "X_train, X_test, y_train, y_test = train_test_split(X, Y, test_size=0.3)\n",
    "# train dataset\n",
    "print(\"training dataset 70%\")\n",
    "print(X_train.shape, y_train.shape)\n",
    "\n",
    "# test dataset\n",
    "print(\"testing dataset 30%\")\n",
    "print(X_test.shape, y_test.shape)\n",
    "# train the model\n",
    "std_scale = StandardScaler().fit(X_train)\n",
    "X_train = np.array(X_train, dtype='float32')\n",
    "X_train = std_scale.transform(X_train)\n",
    "# X_train = std_scale.transform(X_train)\n",
    "# X_train = np.array(X_train,dtype='float32')\n",
    "X_train = X_train[:, ~np.isnan(X_train).any(axis=0)]\n",
    "pca = PCA(n_components=2)\n",
    "pca.fit(X_train)\n",
    "X_train = pca.transform(X_train)\n",
    "clf = RandomForestClassifier(n_estimators=25, max_depth=16, oob_score=True, n_jobs=-1, warm_start=True).fit(X_train, y_train.ravel())\n",
    "#clf = MLPClassifier(solver='lbfgs', alpha=1e-5,hidden_layer_sizes=(5, 2), random_state=1).fit(X_train, y_train.ravel()) \n",
    "pred = np.round(clf.predict(X_train)) #clf\n",
    "tn, fp, fn, tp = confusion_matrix(y_train, pred, labels=[1, 0]).ravel()\n",
    "acc = np.round(((tn + tp) / (tn + fp + fn + tp)) * 100, 2)\n",
    "sn=np.round(tp/(tp+fn))\n",
    "sp=np.round(tn/(tn+fp))\n",
    "prec=np.round(tp/(tp+fp))\n",
    "mcc=np.round((tp*tn-fp*fn)/(math.sqrt((tp+fp)*(tp+fn)*(tn+fn)*(tn+fn))))\n",
    "print(\"\\nIndependent training data set confusion matrix\")\n",
    "print(\n",
    "    (['True Negative =', tn, 'False Positive =', fp, 'False Negative =', fn, 'True Positive =', tp, 'Accuracy =', acc]))\n",
    "print(\n",
    "    (['Accuracy =', acc, 'Sensitivity =', sn, 'Precession =', prec, 'MCC =', mcc]))\n",
    "# now test the model\n",
    "std_scale = StandardScaler().fit(X_test)\n",
    "X_test = std_scale.transform(X_test)\n",
    "pca = PCA(n_components=2)\n",
    "pca.fit(X_test)\n",
    "X_test = pca.transform(X_test)\n",
    "clf = RandomForestClassifier(n_estimators=25, max_depth=12, oob_score=True, n_jobs=-1, warm_start=True).fit(X_test, y_test.ravel())\n",
    "#clf = MLPClassifier(solver='lbfgs', alpha=1e-5,hidden_layer_sizes=(5, 2), random_state=1).fit(X_test, y_test.ravel())\n",
    "pred_test = np.round(clf.predict(X_test)) # clf\n",
    "tn1, fp1, fn1, tp1 = confusion_matrix(y_test, pred_test, labels=[1, 0]).ravel()\n",
    "acc1 = np.round(((tn1 + tp1) / (tn1 + fp1 + fn1 + tp1)) * 100, 2)\n",
    "sn1=np.round(tp1/(tp1+fn1))\n",
    "sp1=np.round(tn/(tn1+fp1))\n",
    "prec1=np.round(tp1/(tp1+fp1))\n",
    "mcc1=np.round((tp1*tn1-fp1*fn1)/(math.sqrt((tp1+fp1)*(tp1+fn1)*(tn1+fn1)*(tn1+fn1))))\n",
    "print(\"\\nIndependent testing  data set confusion matrix\")\n",
    "print((['True Negative =', tn1, 'False Positive =', fp1, 'False Negative =', fn1, 'True Positive =', tp1, 'Accuracy =',\n",
    "        acc1]))\n",
    "print(\n",
    "    (['Accuracy =', acc1, 'Sensitivity =', sn1, 'Precession =', prec1, 'MCC =', mcc1]))\n",
    "with open('./result2.csv', 'w', newline='') as csvfile:\n",
    "    resultwriter = csv.writer(csvfile, delimiter=',', quotechar='|')\n",
    "    resultwriter.writerow(['Independent testing'])\n",
    "    resultwriter.writerow(['training dataset 70%'])\n",
    "    resultwriter.writerow([X_train.shape, y_train.shape])\n",
    "    resultwriter.writerow(['testing dataset 30%'])\n",
    "    resultwriter.writerow([X_test.shape, y_test.shape])\n",
    "    resultwriter.writerow([\"training data set confusion matrix\"])\n",
    "    resultwriter.writerow((\n",
    "                          ['True Negative =', tn, 'False Positive =', fp, 'False Negative =', fn, 'True Positive =', tp,\n",
    "                           'Accuracy =', acc]))\n",
    "    resultwriter.writerow((['testing  data set confusion matrix']))\n",
    "    resultwriter.writerow((['True Negative =', tn1, 'False Positive =', fp1, 'False Negative =', fn1, 'True Positive =',\n",
    "                            tp1, 'Accuracy =', acc1]))\n",
    "\n",
    "from matplotlib import pyplot\n",
    "\n",
    "ns_probs1 = [0 for _ in range(len(y_test))]\n",
    "lr_probs1 = clf.predict_proba(X_test) #clf\n",
    "# keep probabilities for the positive outcome only\n",
    "lr_probs1 = lr_probs1[:, 1]\n",
    "\n",
    "# calculate roc curves\n",
    "ns_fpr3, ns_tpr3, _ = roc_curve(y_test, ns_probs1)\n",
    "lr_fpr3, lr_tpr3, _ = roc_curve(y_test, lr_probs1)\n",
    "\n",
    "# plot the roc curve for the model\n",
    "pyplot.plot(ns_fpr3, ns_tpr3, linestyle='--')\n",
    "pyplot.plot(lr_fpr3, lr_tpr3, marker='.', label='Independent Testing')\n",
    "# axis labels\n",
    "pyplot.xlabel('False Positive Rate')\n",
    "pyplot.ylabel('True Positive Rate')\n",
    "# show the legend\n",
    "pyplot.legend()\n",
    "# show the plot\n",
    "pyplot.show()\n"
   ]
  },
  {
   "cell_type": "markdown",
   "metadata": {},
   "source": [
    "# Confusion Matrix Using Random Forest"
   ]
  },
  {
   "cell_type": "code",
   "execution_count": 8,
   "metadata": {},
   "outputs": [
    {
     "data": {
      "image/png": "[encoded data removed]",
      "text/plain": [
       "<Figure size 576x432 with 2 Axes>"
      ]
     },
     "metadata": {
      "needs_background": "light"
     },
     "output_type": "display_data"
    },
    {
     "data": {
      "image/png": "[encoded data removed]",
      "text/plain": [
       "<Figure size 576x432 with 2 Axes>"
      ]
     },
     "metadata": {
      "needs_background": "light"
     },
     "output_type": "display_data"
    },
    {
     "name": "stdout",
     "output_type": "stream",
     "text": [
      "\n",
      "Training set confusion matrix:\n",
      "True Negative = 385, False Positive = 11, False Negative = 2, True Positive = 402\n",
      "Accuracy = 98.38, Sensitivity = 1.0, Specificity = 0.97, Precision = 0.97, MCC = 0.98\n",
      "\n",
      "Testing set confusion matrix:\n",
      "True Negative = 173, False Positive = 3, False Negative = 2, True Positive = 166\n",
      "Accuracy = 98.55, Sensitivity = 0.99, Specificity = 0.98, Precision = 0.98, MCC = 0.97\n"
     ]
    },
    {
     "ename": "ValueError",
     "evalue": "X has 210 features, but DecisionTreeClassifier is expecting 2 features as input.",
     "output_type": "error",
     "traceback": [
      "\u001b[1;31m---------------------------------------------------------------------------\u001b[0m",
      "\u001b[1;31mValueError\u001b[0m                                Traceback (most recent call last)",
      "\u001b[1;32m<ipython-input-8-875a99b775fa>\u001b[0m in \u001b[0;36m<module>\u001b[1;34m\u001b[0m\n\u001b[0;32m    124\u001b[0m \u001b[0mplt\u001b[0m\u001b[1;33m.\u001b[0m\u001b[0mfigure\u001b[0m\u001b[1;33m(\u001b[0m\u001b[1;33m)\u001b[0m\u001b[1;33m\u001b[0m\u001b[1;33m\u001b[0m\u001b[0m\n\u001b[0;32m    125\u001b[0m \u001b[0mns_probs\u001b[0m \u001b[1;33m=\u001b[0m \u001b[1;33m[\u001b[0m\u001b[1;36m0\u001b[0m \u001b[1;32mfor\u001b[0m \u001b[0m_\u001b[0m \u001b[1;32min\u001b[0m \u001b[0mrange\u001b[0m\u001b[1;33m(\u001b[0m\u001b[0mlen\u001b[0m\u001b[1;33m(\u001b[0m\u001b[0my_test\u001b[0m\u001b[1;33m)\u001b[0m\u001b[1;33m)\u001b[0m\u001b[1;33m]\u001b[0m\u001b[1;33m\u001b[0m\u001b[1;33m\u001b[0m\u001b[0m\n\u001b[1;32m--> 126\u001b[1;33m \u001b[0mlr_probs\u001b[0m \u001b[1;33m=\u001b[0m \u001b[0mclf_test\u001b[0m\u001b[1;33m.\u001b[0m\u001b[0mpredict_proba\u001b[0m\u001b[1;33m(\u001b[0m\u001b[0mX_test\u001b[0m\u001b[1;33m)\u001b[0m\u001b[1;33m\u001b[0m\u001b[1;33m\u001b[0m\u001b[0m\n\u001b[0m\u001b[0;32m    127\u001b[0m \u001b[0mlr_probs\u001b[0m \u001b[1;33m=\u001b[0m \u001b[0mlr_probs\u001b[0m\u001b[1;33m[\u001b[0m\u001b[1;33m:\u001b[0m\u001b[1;33m,\u001b[0m \u001b[1;36m1\u001b[0m\u001b[1;33m]\u001b[0m\u001b[1;33m\u001b[0m\u001b[1;33m\u001b[0m\u001b[0m\n\u001b[0;32m    128\u001b[0m \u001b[0mns_fpr\u001b[0m\u001b[1;33m,\u001b[0m \u001b[0mns_tpr\u001b[0m\u001b[1;33m,\u001b[0m \u001b[0m_\u001b[0m \u001b[1;33m=\u001b[0m \u001b[0mroc_curve\u001b[0m\u001b[1;33m(\u001b[0m\u001b[0my_test\u001b[0m\u001b[1;33m,\u001b[0m \u001b[0mns_probs\u001b[0m\u001b[1;33m)\u001b[0m\u001b[1;33m\u001b[0m\u001b[1;33m\u001b[0m\u001b[0m\n",
      "\u001b[1;32mc:\\Users\\Shazia Khan\\anaconda3\\envs\\golf\\lib\\site-packages\\sklearn\\ensemble\\_forest.py\u001b[0m in \u001b[0;36mpredict_proba\u001b[1;34m(self, X)\u001b[0m\n\u001b[0;32m    672\u001b[0m         \u001b[0mcheck_is_fitted\u001b[0m\u001b[1;33m(\u001b[0m\u001b[0mself\u001b[0m\u001b[1;33m)\u001b[0m\u001b[1;33m\u001b[0m\u001b[1;33m\u001b[0m\u001b[0m\n\u001b[0;32m    673\u001b[0m         \u001b[1;31m# Check data\u001b[0m\u001b[1;33m\u001b[0m\u001b[1;33m\u001b[0m\u001b[1;33m\u001b[0m\u001b[0m\n\u001b[1;32m--> 674\u001b[1;33m         \u001b[0mX\u001b[0m \u001b[1;33m=\u001b[0m \u001b[0mself\u001b[0m\u001b[1;33m.\u001b[0m\u001b[0m_validate_X_predict\u001b[0m\u001b[1;33m(\u001b[0m\u001b[0mX\u001b[0m\u001b[1;33m)\u001b[0m\u001b[1;33m\u001b[0m\u001b[1;33m\u001b[0m\u001b[0m\n\u001b[0m\u001b[0;32m    675\u001b[0m \u001b[1;33m\u001b[0m\u001b[0m\n\u001b[0;32m    676\u001b[0m         \u001b[1;31m# Assign chunk of trees to jobs\u001b[0m\u001b[1;33m\u001b[0m\u001b[1;33m\u001b[0m\u001b[1;33m\u001b[0m\u001b[0m\n",
      "\u001b[1;32mc:\\Users\\Shazia Khan\\anaconda3\\envs\\golf\\lib\\site-packages\\sklearn\\ensemble\\_forest.py\u001b[0m in \u001b[0;36m_validate_X_predict\u001b[1;34m(self, X)\u001b[0m\n\u001b[0;32m    420\u001b[0m         \u001b[0mcheck_is_fitted\u001b[0m\u001b[1;33m(\u001b[0m\u001b[0mself\u001b[0m\u001b[1;33m)\u001b[0m\u001b[1;33m\u001b[0m\u001b[1;33m\u001b[0m\u001b[0m\n\u001b[0;32m    421\u001b[0m \u001b[1;33m\u001b[0m\u001b[0m\n\u001b[1;32m--> 422\u001b[1;33m         \u001b[1;32mreturn\u001b[0m \u001b[0mself\u001b[0m\u001b[1;33m.\u001b[0m\u001b[0mestimators_\u001b[0m\u001b[1;33m[\u001b[0m\u001b[1;36m0\u001b[0m\u001b[1;33m]\u001b[0m\u001b[1;33m.\u001b[0m\u001b[0m_validate_X_predict\u001b[0m\u001b[1;33m(\u001b[0m\u001b[0mX\u001b[0m\u001b[1;33m,\u001b[0m \u001b[0mcheck_input\u001b[0m\u001b[1;33m=\u001b[0m\u001b[1;32mTrue\u001b[0m\u001b[1;33m)\u001b[0m\u001b[1;33m\u001b[0m\u001b[1;33m\u001b[0m\u001b[0m\n\u001b[0m\u001b[0;32m    423\u001b[0m \u001b[1;33m\u001b[0m\u001b[0m\n\u001b[0;32m    424\u001b[0m     \u001b[1;33m@\u001b[0m\u001b[0mproperty\u001b[0m\u001b[1;33m\u001b[0m\u001b[1;33m\u001b[0m\u001b[0m\n",
      "\u001b[1;32mc:\\Users\\Shazia Khan\\anaconda3\\envs\\golf\\lib\\site-packages\\sklearn\\tree\\_classes.py\u001b[0m in \u001b[0;36m_validate_X_predict\u001b[1;34m(self, X, check_input)\u001b[0m\n\u001b[0;32m    406\u001b[0m         \u001b[1;32mif\u001b[0m \u001b[0mcheck_input\u001b[0m\u001b[1;33m:\u001b[0m\u001b[1;33m\u001b[0m\u001b[1;33m\u001b[0m\u001b[0m\n\u001b[0;32m    407\u001b[0m             X = self._validate_data(X, dtype=DTYPE, accept_sparse=\"csr\",\n\u001b[1;32m--> 408\u001b[1;33m                                     reset=False)\n\u001b[0m\u001b[0;32m    409\u001b[0m             if issparse(X) and (X.indices.dtype != np.intc or\n\u001b[0;32m    410\u001b[0m                                 X.indptr.dtype != np.intc):\n",
      "\u001b[1;32mc:\\Users\\Shazia Khan\\anaconda3\\envs\\golf\\lib\\site-packages\\sklearn\\base.py\u001b[0m in \u001b[0;36m_validate_data\u001b[1;34m(self, X, y, reset, validate_separately, **check_params)\u001b[0m\n\u001b[0;32m    435\u001b[0m \u001b[1;33m\u001b[0m\u001b[0m\n\u001b[0;32m    436\u001b[0m         \u001b[1;32mif\u001b[0m \u001b[0mcheck_params\u001b[0m\u001b[1;33m.\u001b[0m\u001b[0mget\u001b[0m\u001b[1;33m(\u001b[0m\u001b[1;34m'ensure_2d'\u001b[0m\u001b[1;33m,\u001b[0m \u001b[1;32mTrue\u001b[0m\u001b[1;33m)\u001b[0m\u001b[1;33m:\u001b[0m\u001b[1;33m\u001b[0m\u001b[1;33m\u001b[0m\u001b[0m\n\u001b[1;32m--> 437\u001b[1;33m             \u001b[0mself\u001b[0m\u001b[1;33m.\u001b[0m\u001b[0m_check_n_features\u001b[0m\u001b[1;33m(\u001b[0m\u001b[0mX\u001b[0m\u001b[1;33m,\u001b[0m \u001b[0mreset\u001b[0m\u001b[1;33m=\u001b[0m\u001b[0mreset\u001b[0m\u001b[1;33m)\u001b[0m\u001b[1;33m\u001b[0m\u001b[1;33m\u001b[0m\u001b[0m\n\u001b[0m\u001b[0;32m    438\u001b[0m \u001b[1;33m\u001b[0m\u001b[0m\n\u001b[0;32m    439\u001b[0m         \u001b[1;32mreturn\u001b[0m \u001b[0mout\u001b[0m\u001b[1;33m\u001b[0m\u001b[1;33m\u001b[0m\u001b[0m\n",
      "\u001b[1;32mc:\\Users\\Shazia Khan\\anaconda3\\envs\\golf\\lib\\site-packages\\sklearn\\base.py\u001b[0m in \u001b[0;36m_check_n_features\u001b[1;34m(self, X, reset)\u001b[0m\n\u001b[0;32m    364\u001b[0m         \u001b[1;32mif\u001b[0m \u001b[0mn_features\u001b[0m \u001b[1;33m!=\u001b[0m \u001b[0mself\u001b[0m\u001b[1;33m.\u001b[0m\u001b[0mn_features_in_\u001b[0m\u001b[1;33m:\u001b[0m\u001b[1;33m\u001b[0m\u001b[1;33m\u001b[0m\u001b[0m\n\u001b[0;32m    365\u001b[0m             raise ValueError(\n\u001b[1;32m--> 366\u001b[1;33m                 \u001b[1;34mf\"X has {n_features} features, but {self.__class__.__name__} \"\u001b[0m\u001b[1;33m\u001b[0m\u001b[1;33m\u001b[0m\u001b[0m\n\u001b[0m\u001b[0;32m    367\u001b[0m                 f\"is expecting {self.n_features_in_} features as input.\")\n\u001b[0;32m    368\u001b[0m \u001b[1;33m\u001b[0m\u001b[0m\n",
      "\u001b[1;31mValueError\u001b[0m: X has 210 features, but DecisionTreeClassifier is expecting 2 features as input."
     ]
    },
    {
     "data": {
      "text/plain": [
       "<Figure size 432x288 with 0 Axes>"
      ]
     },
     "metadata": {},
     "output_type": "display_data"
    }
   ],
   "source": [
    "from sklearn.model_selection import train_test_split\n",
    "from sklearn.preprocessing import StandardScaler\n",
    "from sklearn.decomposition import PCA\n",
    "from sklearn.ensemble import RandomForestClassifier\n",
    "from sklearn.metrics import confusion_matrix\n",
    "from sklearn.metrics import roc_curve, auc\n",
    "import matplotlib.pyplot as plt\n",
    "import numpy as np\n",
    "import math\n",
    "import csv\n",
    "\n",
    "# Assuming X and Y are your data and labels respectively\n",
    "\n",
    "# Split the data into training and testing sets\n",
    "X_train, X_test, y_train, y_test = train_test_split(X, Y, test_size=0.3, random_state=42)\n",
    "\n",
    "# Standardize the data\n",
    "scaler = StandardScaler()\n",
    "X_train_scaled = scaler.fit_transform(X_train)\n",
    "X_test_scaled = scaler.transform(X_test)\n",
    "\n",
    "# Apply PCA for dimensionality reduction\n",
    "pca = PCA(n_components=2)\n",
    "X_train_pca = pca.fit_transform(X_train_scaled)\n",
    "X_test_pca = pca.transform(X_test_scaled)\n",
    "\n",
    "# Train Random Forest model on training data\n",
    "clf_train = RandomForestClassifier(n_estimators=25, max_depth=16, oob_score=True, n_jobs=-1, warm_start=True)\n",
    "clf_train.fit(X_train_pca, y_train.ravel())\n",
    "\n",
    "# Predict on training data\n",
    "y_pred_train = np.round(clf_train.predict(X_train_pca))\n",
    "\n",
    "# Calculate confusion matrix and metrics for training data\n",
    "tn_train, fp_train, fn_train, tp_train = confusion_matrix(y_train, y_pred_train, labels=[1, 0]).ravel()\n",
    "acc_train = np.round(((tp_train + tn_train) / (tp_train + tn_train + fp_train + fn_train)) * 100, 2)\n",
    "sn_train = np.round(tp_train / (tp_train + fn_train), 2)\n",
    "sp_train = np.round(tn_train / (tn_train + fp_train), 2)\n",
    "prec_train = np.round(tp_train / (tp_train + fp_train), 2)\n",
    "mcc_train = np.round((tp_train * tn_train - fp_train * fn_train) / math.sqrt((tp_train + fp_train) * (tp_train + fn_train) * (tn_train + fn_train) * (tn_train + fn_train)), 2)\n",
    "\n",
    "# Plot confusion matrix for training data\n",
    "plt.figure(figsize=(8, 6))\n",
    "cm_train = confusion_matrix(y_train, y_pred_train, labels=[1, 0])\n",
    "plt.imshow(cm_train, interpolation='nearest', cmap=plt.cm.Blues)\n",
    "plt.title('Confusion Matrix - Training Data')\n",
    "plt.colorbar()\n",
    "tick_marks = np.arange(len([1, 0]))\n",
    "plt.xticks(tick_marks, [1, 0])\n",
    "plt.yticks(tick_marks, [1, 0])\n",
    "plt.xlabel('Predicted Label')\n",
    "plt.ylabel('True Label')\n",
    "plt.tight_layout()\n",
    "\n",
    "# Add numerical values in each cell\n",
    "thresh = cm_train.max() / 2.\n",
    "for i, j in np.ndindex(cm_train.shape):\n",
    "    plt.text(j, i, format(cm_train[i, j], 'd'),\n",
    "             horizontalalignment=\"center\",\n",
    "             color=\"white\" if cm_train[i, j] > thresh else \"black\")\n",
    "\n",
    "plt.show()\n",
    "\n",
    "# Train Random Forest model on testing data\n",
    "clf_test = RandomForestClassifier(n_estimators=25, max_depth=12, oob_score=True, n_jobs=-1, warm_start=True)\n",
    "clf_test.fit(X_test_pca, y_test.ravel())\n",
    "\n",
    "# Predict on testing data\n",
    "y_pred_test = np.round(clf_test.predict(X_test_pca))\n",
    "\n",
    "# Calculate confusion matrix and metrics for testing data\n",
    "tn_test, fp_test, fn_test, tp_test = confusion_matrix(y_test, y_pred_test, labels=[1, 0]).ravel()\n",
    "acc_test = np.round(((tp_test + tn_test) / (tp_test + tn_test + fp_test + fn_test)) * 100, 2)\n",
    "sn_test = np.round(tp_test / (tp_test + fn_test), 2)\n",
    "sp_test = np.round(tn_test / (tn_test + fp_test), 2)\n",
    "prec_test = np.round(tp_test / (tp_test + fp_test), 2)\n",
    "mcc_test = np.round((tp_test * tn_test - fp_test * fn_test) / math.sqrt((tp_test + fp_test) * (tp_test + fn_test) * (tn_test + fn_test) * (tn_test + fn_test)), 2)\n",
    "\n",
    "# Plot confusion matrix for testing data\n",
    "plt.figure(figsize=(8, 6))\n",
    "cm_test = confusion_matrix(y_test, y_pred_test, labels=[1, 0])\n",
    "plt.imshow(cm_test, interpolation='nearest', cmap=plt.cm.Blues)\n",
    "plt.title('Confusion Matrix - Testing Data')\n",
    "plt.colorbar()\n",
    "tick_marks = np.arange(len([1, 0]))\n",
    "plt.xticks(tick_marks, [1, 0])\n",
    "plt.yticks(tick_marks, [1, 0])\n",
    "plt.xlabel('Predicted Label')\n",
    "plt.ylabel('True Label')\n",
    "plt.tight_layout()\n",
    "\n",
    "# Add numerical values in each cell\n",
    "thresh = cm_test.max() / 2.\n",
    "for i, j in np.ndindex(cm_test.shape):\n",
    "    plt.text(j, i, format(cm_test[i, j], 'd'),\n",
    "             horizontalalignment=\"center\",\n",
    "             color=\"white\" if cm_test[i, j] > thresh else \"black\")\n",
    "\n",
    "plt.show()\n",
    "\n",
    "# Print metrics\n",
    "print(\"\\nTraining set confusion matrix:\")\n",
    "print(f\"True Negative = {tn_train}, False Positive = {fp_train}, False Negative = {fn_train}, True Positive = {tp_train}\")\n",
    "print(f\"Accuracy = {acc_train}, Sensitivity = {sn_train}, Specificity = {sp_train}, Precision = {prec_train}, MCC = {mcc_train}\")\n",
    "\n",
    "print(\"\\nTesting set confusion matrix:\")\n",
    "print(f\"True Negative = {tn_test}, False Positive = {fp_test}, False Negative = {fn_test}, True Positive = {tp_test}\")\n",
    "print(f\"Accuracy = {acc_test}, Sensitivity = {sn_test}, Specificity = {sp_test}, Precision = {prec_test}, MCC = {mcc_test}\")\n",
    "\n",
    "# Writing results to a CSV file\n",
    "with open('./result2.csv', 'w', newline='') as csvfile:\n",
    "    resultwriter = csv.writer(csvfile, delimiter=',', quotechar='|')\n",
    "    resultwriter.writerow(['Independent testing'])\n",
    "    resultwriter.writerow(['Training Dataset 70%'])\n",
    "    resultwriter.writerow([X_train.shape, y_train.shape])\n",
    "    resultwriter.writerow(['Testing Dataset 30%'])\n",
    "    resultwriter.writerow([X_test.shape, y_test.shape])\n",
    "    resultwriter.writerow([\"Training Data Set Confusion Matrix\"])\n",
    "    resultwriter.writerow(['True Negative =', tn_train, 'False Positive =', fp_train, 'False Negative =', fn_train, 'True Positive =', tp_train, 'Accuracy =', acc_train])\n",
    "    resultwriter.writerow([\"Testing Data Set Confusion Matrix\"])\n",
    "    resultwriter.writerow(['True Negative =', tn_test, 'False Positive =', fp_test, 'False Negative =', fn_test, 'True Positive =', tp_test, 'Accuracy =', acc_test])\n",
    "\n",
    "# Plot ROC curve for testing data\n",
    "plt.figure()\n",
    "ns_probs = [0 for _ in range(len(y_test))]\n",
    "lr_probs = clf_test.predict_proba(X_test)\n",
    "lr_probs = lr_probs[:, 1]\n",
    "ns_fpr, ns_tpr, _ = roc_curve(y_test, ns_probs)\n",
    "lr_fpr, lr_tpr, _ = roc_curve(y_test, lr_probs)\n",
    "plt.plot(ns_fpr, ns_tpr, linestyle='--')\n",
    "plt.plot(lr_fpr, lr_tpr, marker='.', label='Independent Testing')\n",
    "plt.xlabel('False Positive Rate')\n",
    "plt.ylabel('True Positive Rate')\n",
    "plt.legend()\n",
    "plt.show()\n"
   ]
  },
  {
   "cell_type": "markdown",
   "metadata": {},
   "source": [
    "# K fold Validation using RF"
   ]
  },
  {
   "cell_type": "code",
   "execution_count": null,
   "metadata": {},
   "outputs": [],
   "source": [
    "# 10 Fold Part\n",
    "print('\\nk-fold Cross-Validation')\n",
    "results = pd.DataFrame(columns=['training_score', 'test_score'])\n",
    "fprs, tprs, scores = [], [], []\n",
    "dataset = np.genfromtxt(\"./Anticancer.csv\", delimiter=\",\", dtype=float)\n",
    "X = dataset[:, 0:inputSize]\n",
    "Y = dataset[:, inputSize:outputCol]\n",
    "std_scale = StandardScaler().fit(X)\n",
    "X = std_scale.transform(X)\n",
    "cvscores = []\n",
    "\n",
    "# #############################################################################\n",
    "# Classification and ROC analysis\n",
    "\n",
    "# Run classifier with cross-validation and plot ROC curves\n",
    "#cv = StratifiedKFold(n_splits=10, shuffle=True)\n",
    "# classifier = BernoulliNB()\n",
    "# classifier = algorithms.PNN(std=10, verbose=False)\n",
    "# classifier = AdaBoostClassifier(n_estimators=100)\n",
    "# classifier = SVC(kernel='linear', probability=True)\n",
    "#classifier = KNeighborsClassifier(n_neighbors=500)\n",
    "classifier = RandomForestClassifier(n_estimators=25, max_depth=25, oob_score=True, n_jobs=-1, warm_start=True)\n",
    "\n",
    "tprs = []\n",
    "aucs = []\n",
    "mean_fpr = np.linspace(0, 1, 100)\n",
    "\n",
    "i = 0\n",
    "for train, test in cv.split(X, Y):\n",
    "    print('Fold : ' + str(i))\n",
    "    classifier.fit(X[train], Y[train].ravel())\n",
    "    pred = np.round(classifier.predict(X[test]))\n",
    "    tp, fn, fp, tn = confusion_matrix(Y[test], pred, labels=[1, 0]).ravel()\n",
    "    acc = np.round(((tn + tp) / (tn + fp + fn + tp)) * 100, 2)\n",
    "    sp = np.round((tn / (fp + tn)) * 100, 2)\n",
    "    sn = np.round((tp / (tp + fn)) * 100, 2)\n",
    "    mcc = np.round(matthews_corrcoef(Y[test].ravel(), pred), 5)\n",
    "    cvscores.append([tp, fp, tn, fn, acc, sp, sn, mcc])\n",
    "    print([tp, fp, tn, fn, acc, sp, sn, mcc])\n",
    "    probas_ = classifier.predict_proba(X[test])\n",
    "    # Compute ROC curve and area under the curve\n",
    "    fpr, tpr, thresholds = metrics.roc_curve(Y[test], probas_[:, 1])\n",
    "    tprs.append(interp(mean_fpr, fpr, tpr))\n",
    "    tprs[-1][0] = 0.0\n",
    "    roc_auc = auc(fpr, tpr)\n",
    "    aucs.append(roc_auc)\n",
    "    plt.plot(fpr, tpr, lw=1, alpha=0.2,\n",
    "             label='ROC fold %d (AUC = %0.2f)' % (i, roc_auc))\n",
    "    i += 1\n",
    "\n",
    "plt.plot([0, 1], [0, 1], linestyle='--', lw=2, color='r',\n",
    "         label='Luck', alpha=.8)\n",
    "\n",
    "mean_tpr = np.mean(tprs, axis=0)\n",
    "mean_tpr[-1] = 1.0\n",
    "mean_auc = auc(mean_fpr, mean_tpr)\n",
    "std_auc = np.std(aucs)\n",
    "plt.plot(mean_fpr, mean_tpr, color='b',\n",
    "         label=r'Mean ROC (AUC = %0.2f $\\pm$ %0.2f)' % (mean_auc, std_auc),\n",
    "         lw=2, alpha=.8)\n",
    "\n",
    "std_tpr = np.std(tprs, axis=0)\n",
    "tprs_upper = np.minimum(mean_tpr + std_tpr, 1)\n",
    "tprs_lower = np.maximum(mean_tpr - std_tpr, 0)\n",
    "plt.fill_between(mean_fpr, tprs_lower, tprs_upper, color='grey', alpha=.2,\n",
    "                 label=r'$\\pm$ 1 std. dev.')\n",
    "\n",
    "\n",
    "\n",
    "plt.xlim([-0.05, 1.05])\n",
    "plt.ylim([-0.05, 1.05])\n",
    "plt.xlabel('False Positive Rate')\n",
    "plt.ylabel('True Positive Rate')\n",
    "plt.title('Receiver Operating Characteristic (ROC) - Curve')\n",
    "plt.legend(loc=\"lower right\")\n",
    "# plt.legend('')\n",
    "plt.show()\n",
    "\n",
    "print('\\n\\nResults are Saved in Cross-Validation-Results-5.csv')\n",
    "with open('./Cross-Validation-Results.csv', 'w', newline='') as csvfile:\n",
    "    resultwriter = csv.writer(csvfile, delimiter=',', quotechar='|')\n",
    "    resultwriter.writerow(['10-Fold Cross-Validation'])\n",
    "    resultwriter.writerow(\n",
    "        ['True Positive', 'False Positive', 'True Negative', 'False Negative', 'Accuracy', 'Specificity', 'Sensitivity',\n",
    "         'MCC'])\n",
    "    for i in range(cvscores.__len__()):\n",
    "        resultwriter.writerow(cvscores[i])\n"
   ]
  },
  {
   "cell_type": "markdown",
   "metadata": {},
   "source": [
    "Confusion Matrix RF K-fold"
   ]
  },
  {
   "cell_type": "code",
   "execution_count": 13,
   "metadata": {},
   "outputs": [
    {
     "name": "stdout",
     "output_type": "stream",
     "text": [
      "Fold 1\n",
      "Fold 2\n",
      "Fold 3\n"
     ]
    },
    {
     "name": "stderr",
     "output_type": "stream",
     "text": [
      "c:\\Users\\Shazia Khan\\anaconda3\\envs\\golf\\lib\\site-packages\\sklearn\\ensemble\\_forest.py:369: UserWarning: Warm-start fitting without increasing n_estimators does not fit new trees.\n",
      "  warn(\"Warm-start fitting without increasing n_estimators does not \"\n",
      "c:\\Users\\Shazia Khan\\anaconda3\\envs\\golf\\lib\\site-packages\\sklearn\\ensemble\\_forest.py:369: UserWarning: Warm-start fitting without increasing n_estimators does not fit new trees.\n",
      "  warn(\"Warm-start fitting without increasing n_estimators does not \"\n"
     ]
    },
    {
     "name": "stdout",
     "output_type": "stream",
     "text": [
      "Fold 4\n",
      "Fold 5\n"
     ]
    },
    {
     "name": "stderr",
     "output_type": "stream",
     "text": [
      "c:\\Users\\Shazia Khan\\anaconda3\\envs\\golf\\lib\\site-packages\\sklearn\\ensemble\\_forest.py:369: UserWarning: Warm-start fitting without increasing n_estimators does not fit new trees.\n",
      "  warn(\"Warm-start fitting without increasing n_estimators does not \"\n",
      "c:\\Users\\Shazia Khan\\anaconda3\\envs\\golf\\lib\\site-packages\\sklearn\\ensemble\\_forest.py:369: UserWarning: Warm-start fitting without increasing n_estimators does not fit new trees.\n",
      "  warn(\"Warm-start fitting without increasing n_estimators does not \"\n"
     ]
    },
    {
     "name": "stdout",
     "output_type": "stream",
     "text": [
      "Fold 6\n",
      "Fold 7\n"
     ]
    },
    {
     "name": "stderr",
     "output_type": "stream",
     "text": [
      "c:\\Users\\Shazia Khan\\anaconda3\\envs\\golf\\lib\\site-packages\\sklearn\\ensemble\\_forest.py:369: UserWarning: Warm-start fitting without increasing n_estimators does not fit new trees.\n",
      "  warn(\"Warm-start fitting without increasing n_estimators does not \"\n",
      "c:\\Users\\Shazia Khan\\anaconda3\\envs\\golf\\lib\\site-packages\\sklearn\\ensemble\\_forest.py:369: UserWarning: Warm-start fitting without increasing n_estimators does not fit new trees.\n",
      "  warn(\"Warm-start fitting without increasing n_estimators does not \"\n"
     ]
    },
    {
     "name": "stdout",
     "output_type": "stream",
     "text": [
      "Fold 8\n",
      "Fold 9\n"
     ]
    },
    {
     "name": "stderr",
     "output_type": "stream",
     "text": [
      "c:\\Users\\Shazia Khan\\anaconda3\\envs\\golf\\lib\\site-packages\\sklearn\\ensemble\\_forest.py:369: UserWarning: Warm-start fitting without increasing n_estimators does not fit new trees.\n",
      "  warn(\"Warm-start fitting without increasing n_estimators does not \"\n",
      "c:\\Users\\Shazia Khan\\anaconda3\\envs\\golf\\lib\\site-packages\\sklearn\\ensemble\\_forest.py:369: UserWarning: Warm-start fitting without increasing n_estimators does not fit new trees.\n",
      "  warn(\"Warm-start fitting without increasing n_estimators does not \"\n"
     ]
    },
    {
     "name": "stdout",
     "output_type": "stream",
     "text": [
      "Fold 10\n"
     ]
    },
    {
     "name": "stderr",
     "output_type": "stream",
     "text": [
      "c:\\Users\\Shazia Khan\\anaconda3\\envs\\golf\\lib\\site-packages\\sklearn\\ensemble\\_forest.py:369: UserWarning: Warm-start fitting without increasing n_estimators does not fit new trees.\n",
      "  warn(\"Warm-start fitting without increasing n_estimators does not \"\n"
     ]
    },
    {
     "data": {
      "image/png": "[encoded data removed]",
      "text/plain": [
       "<Figure size 1080x1440 with 10 Axes>"
      ]
     },
     "metadata": {
      "needs_background": "light"
     },
     "output_type": "display_data"
    }
   ],
   "source": [
    "import numpy as np\n",
    "import matplotlib.pyplot as plt\n",
    "from sklearn.model_selection import StratifiedKFold\n",
    "from sklearn.ensemble import RandomForestClassifier\n",
    "from sklearn.metrics import confusion_matrix\n",
    "from sklearn.preprocessing import StandardScaler\n",
    "from sklearn.metrics import matthews_corrcoef\n",
    "import csv\n",
    "\n",
    "# Load dataset (adjust path and data loading as per your dataset)\n",
    "dataset = np.genfromtxt(\"./Anticancer.csv\", delimiter=\",\", dtype=float)\n",
    "X = dataset[:, 0:inputSize]  # Adjust inputSize as per your dataset\n",
    "Y = dataset[:, inputSize:outputCol]  # Adjust outputCol as per your dataset\n",
    "\n",
    "# Standardize data\n",
    "std_scale = StandardScaler().fit(X)\n",
    "X = std_scale.transform(X)\n",
    "\n",
    "# Define 10-fold cross-validation\n",
    "cv = StratifiedKFold(n_splits=10, shuffle=True)\n",
    "\n",
    "# Initialize classifier\n",
    "classifier = RandomForestClassifier(n_estimators=25, max_depth=25, oob_score=True, n_jobs=-1, warm_start=True)\n",
    "\n",
    "# Initialize lists to store results\n",
    "cvscores = []\n",
    "\n",
    "# Initialize plot for confusion matrix\n",
    "fig, axs = plt.subplots(5, 2, figsize=(15, 20))\n",
    "axs = axs.flatten()\n",
    "\n",
    "# Iterate over folds\n",
    "for i, (train, test) in enumerate(cv.split(X, Y)):\n",
    "    print(f'Fold {i + 1}')\n",
    "\n",
    "    # Train classifier\n",
    "    classifier.fit(X[train], Y[train].ravel())\n",
    "\n",
    "    # Predict on test set\n",
    "    pred = np.round(classifier.predict(X[test]))\n",
    "\n",
    "    # Calculate confusion matrix metrics\n",
    "    tp, fn, fp, tn = confusion_matrix(Y[test], pred, labels=[1, 0]).ravel()\n",
    "    acc = np.round(((tn + tp) / (tn + fp + fn + tp)) * 100, 2)\n",
    "    sp = np.round((tn / (fp + tn)) * 100, 2)\n",
    "    sn = np.round((tp / (tp + fn)) * 100, 2)\n",
    "    mcc = np.round(matthews_corrcoef(Y[test].ravel(), pred), 5)\n",
    "\n",
    "    # Store metrics\n",
    "    cvscores.append([tp, fp, tn, fn, acc, sp, sn, mcc])\n",
    "\n",
    "    # Compute Confusion Matrix\n",
    "    cm = confusion_matrix(Y[test], pred)\n",
    "\n",
    "    # Plot Confusion Matrix\n",
    "    im = axs[i].imshow(cm, interpolation='nearest', cmap=plt.cm.Blues)\n",
    "    axs[i].set(xticks=np.arange(cm.shape[1]),\n",
    "               yticks=np.arange(cm.shape[0]),\n",
    "               title=f'Confusion Matrix - Fold {i + 1}',\n",
    "               ylabel='True label',\n",
    "               xlabel='Predicted label')\n",
    "\n",
    "    # Add text annotations to each cell\n",
    "    thresh = cm.max() / 2.\n",
    "    for x in range(cm.shape[0]):\n",
    "        for y in range(cm.shape[1]):\n",
    "            axs[i].text(y, x, format(cm[x, y], 'd'),\n",
    "                        ha=\"center\", va=\"center\",\n",
    "                        color=\"white\" if cm[x, y] > thresh else \"black\")\n",
    "\n",
    "# Adjust layout\n",
    "plt.tight_layout()\n",
    "\n",
    "\n",
    "\n",
    "# Show plot\n",
    "plt.show()\n"
   ]
  },
  {
   "cell_type": "code",
   "execution_count": 14,
   "metadata": {},
   "outputs": [
    {
     "name": "stdout",
     "output_type": "stream",
     "text": [
      "Fold 1\n",
      "Fold 2\n",
      "Fold 3\n"
     ]
    },
    {
     "name": "stderr",
     "output_type": "stream",
     "text": [
      "c:\\Users\\Shazia Khan\\anaconda3\\envs\\golf\\lib\\site-packages\\sklearn\\ensemble\\_forest.py:369: UserWarning: Warm-start fitting without increasing n_estimators does not fit new trees.\n",
      "  warn(\"Warm-start fitting without increasing n_estimators does not \"\n",
      "c:\\Users\\Shazia Khan\\anaconda3\\envs\\golf\\lib\\site-packages\\sklearn\\ensemble\\_forest.py:369: UserWarning: Warm-start fitting without increasing n_estimators does not fit new trees.\n",
      "  warn(\"Warm-start fitting without increasing n_estimators does not \"\n"
     ]
    },
    {
     "name": "stdout",
     "output_type": "stream",
     "text": [
      "Fold 4\n",
      "Fold 5\n"
     ]
    },
    {
     "name": "stderr",
     "output_type": "stream",
     "text": [
      "c:\\Users\\Shazia Khan\\anaconda3\\envs\\golf\\lib\\site-packages\\sklearn\\ensemble\\_forest.py:369: UserWarning: Warm-start fitting without increasing n_estimators does not fit new trees.\n",
      "  warn(\"Warm-start fitting without increasing n_estimators does not \"\n",
      "c:\\Users\\Shazia Khan\\anaconda3\\envs\\golf\\lib\\site-packages\\sklearn\\ensemble\\_forest.py:369: UserWarning: Warm-start fitting without increasing n_estimators does not fit new trees.\n",
      "  warn(\"Warm-start fitting without increasing n_estimators does not \"\n",
      "c:\\Users\\Shazia Khan\\anaconda3\\envs\\golf\\lib\\site-packages\\sklearn\\ensemble\\_forest.py:369: UserWarning: Warm-start fitting without increasing n_estimators does not fit new trees.\n",
      "  warn(\"Warm-start fitting without increasing n_estimators does not \"\n"
     ]
    },
    {
     "name": "stdout",
     "output_type": "stream",
     "text": [
      "Fold 6\n",
      "Fold 7\n"
     ]
    },
    {
     "name": "stderr",
     "output_type": "stream",
     "text": [
      "c:\\Users\\Shazia Khan\\anaconda3\\envs\\golf\\lib\\site-packages\\sklearn\\ensemble\\_forest.py:369: UserWarning: Warm-start fitting without increasing n_estimators does not fit new trees.\n",
      "  warn(\"Warm-start fitting without increasing n_estimators does not \"\n",
      "c:\\Users\\Shazia Khan\\anaconda3\\envs\\golf\\lib\\site-packages\\sklearn\\ensemble\\_forest.py:369: UserWarning: Warm-start fitting without increasing n_estimators does not fit new trees.\n",
      "  warn(\"Warm-start fitting without increasing n_estimators does not \"\n"
     ]
    },
    {
     "name": "stdout",
     "output_type": "stream",
     "text": [
      "Fold 8\n",
      "Fold 9\n"
     ]
    },
    {
     "name": "stderr",
     "output_type": "stream",
     "text": [
      "c:\\Users\\Shazia Khan\\anaconda3\\envs\\golf\\lib\\site-packages\\sklearn\\ensemble\\_forest.py:369: UserWarning: Warm-start fitting without increasing n_estimators does not fit new trees.\n",
      "  warn(\"Warm-start fitting without increasing n_estimators does not \"\n",
      "c:\\Users\\Shazia Khan\\anaconda3\\envs\\golf\\lib\\site-packages\\sklearn\\ensemble\\_forest.py:369: UserWarning: Warm-start fitting without increasing n_estimators does not fit new trees.\n",
      "  warn(\"Warm-start fitting without increasing n_estimators does not \"\n"
     ]
    },
    {
     "name": "stdout",
     "output_type": "stream",
     "text": [
      "Fold 10\n",
      "\n",
      "Results saved in Cross-Validation-Results.csv\n"
     ]
    },
    {
     "data": {
      "image/png": "[encoded data removed]",
      "text/plain": [
       "<Figure size 576x432 with 2 Axes>"
      ]
     },
     "metadata": {
      "needs_background": "light"
     },
     "output_type": "display_data"
    }
   ],
   "source": [
    "import numpy as np\n",
    "import matplotlib.pyplot as plt\n",
    "from sklearn.model_selection import StratifiedKFold\n",
    "from sklearn.ensemble import RandomForestClassifier\n",
    "from sklearn.metrics import confusion_matrix\n",
    "from sklearn.preprocessing import StandardScaler\n",
    "from sklearn.metrics import matthews_corrcoef\n",
    "import csv\n",
    "\n",
    "# Load dataset (adjust path and data loading as per your dataset)\n",
    "dataset = np.genfromtxt(\"./Anticancer.csv\", delimiter=\",\", dtype=float)\n",
    "X = dataset[:, 0:inputSize]  # Adjust inputSize as per your dataset\n",
    "Y = dataset[:, inputSize:outputCol]  # Adjust outputCol as per your dataset\n",
    "\n",
    "# Standardize data\n",
    "std_scale = StandardScaler().fit(X)\n",
    "X = std_scale.transform(X)\n",
    "\n",
    "# Define 10-fold cross-validation\n",
    "cv = StratifiedKFold(n_splits=10, shuffle=True)\n",
    "\n",
    "# Initialize classifier\n",
    "classifier = RandomForestClassifier(n_estimators=25, max_depth=25, oob_score=True, n_jobs=-1, warm_start=True)\n",
    "\n",
    "# Initialize lists to store results\n",
    "cvscores = []\n",
    "all_predictions = []\n",
    "all_true_labels = []\n",
    "\n",
    "# Iterate over folds\n",
    "for i, (train, test) in enumerate(cv.split(X, Y)):\n",
    "    print(f'Fold {i + 1}')\n",
    "\n",
    "    # Train classifier\n",
    "    classifier.fit(X[train], Y[train].ravel())\n",
    "\n",
    "    # Predict on test set\n",
    "    pred = np.round(classifier.predict(X[test]))\n",
    "\n",
    "    # Store predictions and true labels\n",
    "    all_predictions.extend(pred)\n",
    "    all_true_labels.extend(Y[test])\n",
    "\n",
    "    # Calculate confusion matrix metrics\n",
    "    tp, fn, fp, tn = confusion_matrix(Y[test], pred, labels=[1, 0]).ravel()\n",
    "    acc = np.round(((tn + tp) / (tn + fp + fn + tp)) * 100, 2)\n",
    "    sp = np.round((tn / (fp + tn)) * 100, 2)\n",
    "    sn = np.round((tp / (tp + fn)) * 100, 2)\n",
    "    mcc = np.round(matthews_corrcoef(Y[test].ravel(), pred), 5)\n",
    "\n",
    "    # Store metrics\n",
    "    cvscores.append([tp, fp, tn, fn, acc, sp, sn, mcc])\n",
    "\n",
    "# Compute overall confusion matrix\n",
    "overall_cm = confusion_matrix(all_true_labels, all_predictions)\n",
    "\n",
    "# Plot confusion matrix as heatmap\n",
    "plt.figure(figsize=(8, 6))\n",
    "plt.imshow(overall_cm, interpolation='nearest', cmap=plt.cm.Blues)\n",
    "plt.title('Overall Confusion Matrix')\n",
    "plt.colorbar()\n",
    "tick_marks = np.arange(len(np.unique(all_true_labels)))\n",
    "plt.xticks(tick_marks, ['Predicted 0', 'Predicted 1'])\n",
    "plt.yticks(tick_marks, ['True 0', 'True 1'])\n",
    "\n",
    "# Add text annotations to each cell\n",
    "thresh = overall_cm.max() / 2.\n",
    "for i, j in np.ndindex(overall_cm.shape):\n",
    "    plt.text(j, i, format(overall_cm[i, j], 'd'),\n",
    "             ha=\"center\", va=\"center\",\n",
    "             color=\"white\" if overall_cm[i, j] > thresh else \"black\")\n",
    "\n",
    "plt.ylabel('True label')\n",
    "plt.xlabel('Predicted label')\n",
    "plt.tight_layout()\n",
    "\n",
    "# Save results to CSV file\n",
    "print('\\nResults saved in Cross-Validation-Results.csv')\n",
    "with open('./Cross-Validation-Results.csv', 'w', newline='') as csvfile:\n",
    "    resultwriter = csv.writer(csvfile, delimiter=',', quotechar='|')\n",
    "    resultwriter.writerow(['Overall Confusion Matrix'])\n",
    "    resultwriter.writerow(['True Negative', 'False Positive', 'False Negative', 'True Positive'])\n",
    "    resultwriter.writerow(overall_cm.ravel())\n",
    "\n",
    "# Show plot\n",
    "plt.show()\n"
   ]
  },
  {
   "cell_type": "markdown",
   "metadata": {},
   "source": [
    "K fold using SVM"
   ]
  },
  {
   "cell_type": "code",
   "execution_count": null,
   "metadata": {},
   "outputs": [],
   "source": [
    "import numpy as np\n",
    "import matplotlib.pyplot as plt\n",
    "from sklearn.model_selection import StratifiedKFold\n",
    "from sklearn.ensemble import RandomForestClassifier\n",
    "from sklearn.preprocessing import StandardScaler\n",
    "from sklearn.metrics import confusion_matrix, roc_curve, auc, matthews_corrcoef\n",
    "import csv\n",
    "\n",
    "# Load dataset (adjust this part according to your specific dataset loading method)\n",
    "dataset = np.genfromtxt(\"./Anticancer.csv\", delimiter=\",\", dtype=float)\n",
    "X = dataset[:, 0:inputSize]  # Assuming inputSize is defined\n",
    "Y = dataset[:, inputSize:outputCol]  # Assuming outputCol is defined\n",
    "\n",
    "# Standardize the data\n",
    "std_scale = StandardScaler().fit(X)\n",
    "X = std_scale.transform(X)\n",
    "\n",
    "# Initialize classifier with parameters\n",
    "# classifier = RandomForestClassifier(n_estimators=25, max_depth=25, oob_score=True, n_jobs=-1, warm_start=True)\n",
    "classifier = SVC(kernel='linear', probability=True)\n",
    "\n",
    "# Perform 10-fold cross-validation\n",
    "cv = StratifiedKFold(n_splits=10, shuffle=True)\n",
    "cvscores = []\n",
    "\n",
    "plt.figure(figsize=(8, 6))\n",
    "\n",
    "# Initialize lists to store ROC curve data\n",
    "tprs = []\n",
    "aucs = []\n",
    "mean_fpr = np.linspace(0, 1, 100)\n",
    "\n",
    "i = 0\n",
    "for train, test in cv.split(X, Y):\n",
    "    print('Fold : ' + str(i))\n",
    "    classifier.fit(X[train], Y[train].ravel())\n",
    "    pred = np.round(classifier.predict(X[test]))\n",
    "    tp, fn, fp, tn = confusion_matrix(Y[test], pred, labels=[1, 0]).ravel()\n",
    "    acc = np.round(((tn + tp) / (tn + fp + fn + tp)) * 100, 2)\n",
    "    sp = np.round((tn / (fp + tn)) * 100, 2)\n",
    "    sn = np.round((tp / (tp + fn)) * 100, 2)\n",
    "    mcc = np.round(matthews_corrcoef(Y[test].ravel(), pred), 5)\n",
    "    cvscores.append([tp, fp, tn, fn, acc, sp, sn, mcc])\n",
    "    print([tp, fp, tn, fn, acc, sp, sn, mcc])\n",
    "    \n",
    "    # Calculate ROC curve and AUC\n",
    "    probas_ = classifier.predict_proba(X[test])\n",
    "    fpr, tpr, thresholds = roc_curve(Y[test], probas_[:, 1])\n",
    "    tprs.append(np.interp(mean_fpr, fpr, tpr))\n",
    "    tprs[-1][0] = 0.0\n",
    "    roc_auc = auc(fpr, tpr)\n",
    "    aucs.append(roc_auc)\n",
    "    \n",
    "    # Plot ROC curve for current fold\n",
    "    plt.plot(fpr, tpr, lw=1, alpha=0.3, label='ROC fold %d (AUC = %0.2f)' % (i, roc_auc))\n",
    "    \n",
    "    i += 1\n",
    "\n",
    "# Plot the mean ROC curve across all folds\n",
    "mean_tpr = np.mean(tprs, axis=0)\n",
    "mean_tpr[-1] = 1.0\n",
    "mean_auc = auc(mean_fpr, mean_tpr)\n",
    "std_auc = np.std(aucs)\n",
    "plt.plot(mean_fpr, mean_tpr, color='b',\n",
    "         label=r'Mean ROC (AUC = %0.2f $\\pm$ %0.2f)' % (mean_auc, std_auc),\n",
    "         lw=2, alpha=.8)\n",
    "\n",
    "# Plot luck line\n",
    "plt.plot([0, 1], [0, 1], linestyle='--', lw=2, color='r', label='Luck', alpha=.8)\n",
    "\n",
    "# Plot standard deviation area\n",
    "std_tpr = np.std(tprs, axis=0)\n",
    "tprs_upper = np.minimum(mean_tpr + std_tpr, 1)\n",
    "tprs_lower = np.maximum(mean_tpr - std_tpr, 0)\n",
    "plt.fill_between(mean_fpr, tprs_lower, tprs_upper, color='grey', alpha=.2,\n",
    "                 label=r'$\\pm$ 1 std. dev.')\n",
    "\n",
    "# Customize plot\n",
    "plt.xlim([-0.05, 1.05])\n",
    "plt.ylim([-0.05, 1.05])\n",
    "plt.xlabel('False Positive Rate')\n",
    "plt.ylabel('True Positive Rate')\n",
    "plt.title('Receiver Operating Characteristic (ROC) - 10-Fold Cross-Validation')\n",
    "plt.legend(loc=\"lower right\")\n",
    "plt.show()\n",
    "\n",
    "# Save results to CSV file\n",
    "print('\\n\\nResults are saved in Cross-Validation-Results.csv')\n",
    "with open('./Cross-Validation-Results.csv', 'w', newline='') as csvfile:\n",
    "    resultwriter = csv.writer(csvfile, delimiter=',', quotechar='|')\n",
    "    resultwriter.writerow(['10-Fold Cross-Validation'])\n",
    "    resultwriter.writerow(['True Positive', 'False Positive', 'True Negative', 'False Negative', 'Accuracy', 'Specificity', 'Sensitivity', 'MCC'])\n",
    "    for score in cvscores:\n",
    "        resultwriter.writerow(score)\n"
   ]
  },
  {
   "cell_type": "markdown",
   "metadata": {},
   "source": [
    "# Confusion Matrix Uisng SVM all folds"
   ]
  },
  {
   "cell_type": "code",
   "execution_count": 15,
   "metadata": {},
   "outputs": [
    {
     "name": "stdout",
     "output_type": "stream",
     "text": [
      "Fold 1\n",
      "Fold 2\n",
      "Fold 3\n",
      "Fold 4\n",
      "Fold 5\n",
      "Fold 6\n",
      "Fold 7\n",
      "Fold 8\n",
      "Fold 9\n",
      "Fold 10\n"
     ]
    },
    {
     "data": {
      "image/png": "[encoded data removed]",
      "text/plain": [
       "<Figure size 1080x1440 with 10 Axes>"
      ]
     },
     "metadata": {
      "needs_background": "light"
     },
     "output_type": "display_data"
    }
   ],
   "source": [
    "import numpy as np\n",
    "import matplotlib.pyplot as plt\n",
    "from sklearn.model_selection import StratifiedKFold\n",
    "from sklearn.svm import SVC\n",
    "from sklearn.metrics import confusion_matrix\n",
    "from sklearn.preprocessing import StandardScaler\n",
    "from sklearn.metrics import matthews_corrcoef\n",
    "import csv\n",
    "\n",
    "# Load dataset (adjust path and data loading as per your dataset)\n",
    "dataset = np.genfromtxt(\"./Anticancer.csv\", delimiter=\",\", dtype=float)\n",
    "X = dataset[:, 0:inputSize]  # Adjust inputSize as per your dataset\n",
    "Y = dataset[:, inputSize:outputCol]  # Adjust outputCol as per your dataset\n",
    "\n",
    "# Standardize data\n",
    "std_scale = StandardScaler().fit(X)\n",
    "X = std_scale.transform(X)\n",
    "\n",
    "# Define 10-fold cross-validation\n",
    "cv = StratifiedKFold(n_splits=10, shuffle=True)\n",
    "\n",
    "# Initialize classifier (SVM)\n",
    "classifier = SVC(kernel='linear', probability=True)\n",
    "\n",
    "# Initialize lists to store results\n",
    "cvscores = []\n",
    "\n",
    "# Initialize plot for confusion matrix\n",
    "fig, axs = plt.subplots(5, 2, figsize=(15, 20))\n",
    "axs = axs.flatten()\n",
    "\n",
    "# Iterate over folds\n",
    "for i, (train, test) in enumerate(cv.split(X, Y)):\n",
    "    print(f'Fold {i + 1}')\n",
    "\n",
    "    # Train classifier\n",
    "    classifier.fit(X[train], Y[train].ravel())\n",
    "\n",
    "    # Predict on test set\n",
    "    pred = classifier.predict(X[test])\n",
    "\n",
    "    # Calculate confusion matrix metrics\n",
    "    tp, fn, fp, tn = confusion_matrix(Y[test], pred, labels=[1, 0]).ravel()\n",
    "    acc = np.round(((tn + tp) / (tn + fp + fn + tp)) * 100, 2)\n",
    "    sp = np.round((tn / (fp + tn)) * 100, 2)\n",
    "    sn = np.round((tp / (tp + fn)) * 100, 2)\n",
    "    mcc = np.round(matthews_corrcoef(Y[test].ravel(), pred), 5)\n",
    "\n",
    "    # Store metrics\n",
    "    cvscores.append([tp, fp, tn, fn, acc, sp, sn, mcc])\n",
    "\n",
    "    # Compute Confusion Matrix\n",
    "    cm = confusion_matrix(Y[test], pred)\n",
    "\n",
    "    # Plot Confusion Matrix\n",
    "    im = axs[i].imshow(cm, interpolation='nearest', cmap=plt.cm.Blues)\n",
    "    axs[i].set(xticks=np.arange(cm.shape[1]),\n",
    "               yticks=np.arange(cm.shape[0]),\n",
    "               title=f'Confusion Matrix - Fold {i + 1}',\n",
    "               ylabel='True label',\n",
    "               xlabel='Predicted label')\n",
    "\n",
    "    # Add text annotations to each cell\n",
    "    thresh = cm.max() / 2.\n",
    "    for x in range(cm.shape[0]):\n",
    "        for y in range(cm.shape[1]):\n",
    "            axs[i].text(y, x, format(cm[x, y], 'd'),\n",
    "                        ha=\"center\", va=\"center\",\n",
    "                        color=\"white\" if cm[x, y] > thresh else \"black\")\n",
    "\n",
    "# Adjust layout\n",
    "plt.tight_layout()\n",
    "\n",
    "# Show plot\n",
    "plt.show()\n"
   ]
  },
  {
   "cell_type": "code",
   "execution_count": 16,
   "metadata": {},
   "outputs": [
    {
     "name": "stdout",
     "output_type": "stream",
     "text": [
      "Fold 1\n",
      "Fold 2\n",
      "Fold 3\n",
      "Fold 4\n",
      "Fold 5\n",
      "Fold 6\n",
      "Fold 7\n",
      "Fold 8\n",
      "Fold 9\n",
      "Fold 10\n",
      "\n",
      "Results saved in Cross-Validation-Results.csv\n"
     ]
    },
    {
     "data": {
      "image/png": "[encoded data removed]",
      "text/plain": [
       "<Figure size 576x432 with 2 Axes>"
      ]
     },
     "metadata": {
      "needs_background": "light"
     },
     "output_type": "display_data"
    }
   ],
   "source": [
    "import numpy as np\n",
    "import matplotlib.pyplot as plt\n",
    "from sklearn.model_selection import StratifiedKFold\n",
    "from sklearn.svm import SVC\n",
    "from sklearn.metrics import confusion_matrix\n",
    "from sklearn.preprocessing import StandardScaler\n",
    "from sklearn.metrics import matthews_corrcoef\n",
    "import csv\n",
    "\n",
    "# Load dataset (adjust path and data loading as per your dataset)\n",
    "dataset = np.genfromtxt(\"./Anticancer.csv\", delimiter=\",\", dtype=float)\n",
    "X = dataset[:, 0:inputSize]  # Adjust inputSize as per your dataset\n",
    "Y = dataset[:, inputSize:outputCol]  # Adjust outputCol as per your dataset\n",
    "\n",
    "# Standardize data\n",
    "std_scale = StandardScaler().fit(X)\n",
    "X = std_scale.transform(X)\n",
    "\n",
    "# Define 10-fold cross-validation\n",
    "cv = StratifiedKFold(n_splits=10, shuffle=True)\n",
    "\n",
    "# Initialize classifier (SVM)\n",
    "classifier = SVC(kernel='linear', probability=True)\n",
    "\n",
    "# Initialize lists to store results\n",
    "cvscores = []\n",
    "all_predictions = []\n",
    "all_true_labels = []\n",
    "\n",
    "# Iterate over folds\n",
    "for i, (train, test) in enumerate(cv.split(X, Y)):\n",
    "    print(f'Fold {i + 1}')\n",
    "\n",
    "    # Train classifier\n",
    "    classifier.fit(X[train], Y[train].ravel())\n",
    "\n",
    "    # Predict on test set\n",
    "    pred = classifier.predict(X[test])\n",
    "\n",
    "    # Store predictions and true labels\n",
    "    all_predictions.extend(pred)\n",
    "    all_true_labels.extend(Y[test])\n",
    "\n",
    "    # Calculate confusion matrix metrics\n",
    "    tp, fn, fp, tn = confusion_matrix(Y[test], pred, labels=[1, 0]).ravel()\n",
    "    acc = np.round(((tn + tp) / (tn + fp + fn + tp)) * 100, 2)\n",
    "    sp = np.round((tn / (fp + tn)) * 100, 2)\n",
    "    sn = np.round((tp / (tp + fn)) * 100, 2)\n",
    "    mcc = np.round(matthews_corrcoef(Y[test].ravel(), pred), 5)\n",
    "\n",
    "    # Store metrics\n",
    "    cvscores.append([tp, fp, tn, fn, acc, sp, sn, mcc])\n",
    "\n",
    "# Compute overall confusion matrix\n",
    "overall_cm = confusion_matrix(all_true_labels, all_predictions)\n",
    "\n",
    "# Plot confusion matrix as heatmap\n",
    "plt.figure(figsize=(8, 6))\n",
    "plt.imshow(overall_cm, interpolation='nearest', cmap=plt.cm.Blues)\n",
    "plt.title('Overall Confusion Matrix')\n",
    "plt.colorbar()\n",
    "tick_marks = np.arange(len(np.unique(all_true_labels)))\n",
    "plt.xticks(tick_marks, ['Predicted 0', 'Predicted 1'])\n",
    "plt.yticks(tick_marks, ['True 0', 'True 1'])\n",
    "\n",
    "# Add text annotations to each cell\n",
    "thresh = overall_cm.max() / 2.\n",
    "for i, j in np.ndindex(overall_cm.shape):\n",
    "    plt.text(j, i, format(overall_cm[i, j], 'd'),\n",
    "             ha=\"center\", va=\"center\",\n",
    "             color=\"white\" if overall_cm[i, j] > thresh else \"black\")\n",
    "\n",
    "plt.ylabel('True label')\n",
    "plt.xlabel('Predicted label')\n",
    "plt.tight_layout()\n",
    "\n",
    "# Save results to CSV file\n",
    "print('\\nResults saved in Cross-Validation-Results.csv')\n",
    "with open('./Cross-Validation-Results.csv', 'w', newline='') as csvfile:\n",
    "    resultwriter = csv.writer(csvfile, delimiter=',', quotechar='|')\n",
    "    resultwriter.writerow(['Overall Confusion Matrix'])\n",
    "    resultwriter.writerow(['True Negative', 'False Positive', 'False Negative', 'True Positive'])\n",
    "    resultwriter.writerow(overall_cm.ravel())\n",
    "\n",
    "# Show plot\n",
    "plt.show()\n"
   ]
  },
  {
   "cell_type": "markdown",
   "metadata": {},
   "source": [
    "# Self Consistency with SVM\n"
   ]
  },
  {
   "cell_type": "code",
   "execution_count": 17,
   "metadata": {},
   "outputs": [
    {
     "name": "stdout",
     "output_type": "stream",
     "text": [
      "\n",
      "Self-Consistency\n",
      "[502, 70, 37, 535, 90.65, 0.9353146853146853, 'Accuracy =', 90.65, 'specificity=', 0.8776223776223776, 'Sensitivity =', 0.9353146853146853, 'Precession =', 0.8842975206611571, 'MCC =', 0.8388503977144525]\n"
     ]
    },
    {
     "data": {
      "image/png": "[encoded data removed]",
      "text/plain": [
       "<Figure size 432x288 with 1 Axes>"
      ]
     },
     "metadata": {
      "needs_background": "light"
     },
     "output_type": "display_data"
    },
    {
     "data": {
      "text/plain": [
       "90.65"
      ]
     },
     "execution_count": 17,
     "metadata": {},
     "output_type": "execute_result"
    }
   ],
   "source": [
    "\n",
    "import matplotlib.pyplot as pyplot\n",
    "print('\\nSelf-Consistency')\n",
    "#clf = RandomForestClassifier(n_estimators=16, max_depth=40, oob_score=True, n_jobs=-1, warm_start=True).fit(X, Y.ravel())\n",
    "#clf = MLPClassifier(solver='lbfgs', alpha=1e-5,hidden_layer_sizes=(5, 2), random_state=1).fit(X, Y.ravel())\n",
    "clf = SVC(probability=True, kernel='linear').fit(X, Y.ravel())\n",
    "\n",
    "pred = np.round(clf.predict(X)) # clf\n",
    "tn, fp, fn, tp = confusion_matrix(Y, pred, labels=[1, 0]).ravel()\n",
    "acc = np.round(((tn + tp) / (tn + fp + fn + tp)) * 100, 2)\n",
    "sn=(tp/(tp+fn))\n",
    "sp=(tn/(tn+fp))\n",
    "prec=(tp/(tp+fp))\n",
    "mcc=((tp*tn-fp*fn)/(math.sqrt((tp+fp)*(tp+fn)*(tn+fn)*(tn+fn))))\n",
    "print([tn, fp, fn, tp, acc, sn, 'Accuracy =', acc, 'specificity=', sp, 'Sensitivity =', sn, 'Precession =', prec, 'MCC =', mcc ])\n",
    "ns_probs1 = [0 for _ in range(len(Y))]\n",
    "lr_probs1 = clf.predict_proba(X) # clf\n",
    "# keep probabilities for the positive outcome only\n",
    "lr_probs1 = lr_probs1[:, 1]\n",
    "ns_fpr1, ns_tpr1, _ = roc_curve(Y, ns_probs1)\n",
    "lr_fpr1, lr_tpr1, _ = roc_curve(Y, lr_probs1)\n",
    "# plot the roc curve for the model\n",
    "pyplot.plot(ns_fpr1, ns_tpr1, linestyle='--')\n",
    "pyplot.plot(lr_fpr1, lr_tpr1, marker='.', label='Self-Consistency')\n",
    "# axis labels\n",
    "pyplot.xlabel('False Positive Rate')\n",
    "pyplot.ylabel('True Positive Rate')\n",
    "# show the legend\n",
    "pyplot.legend()\n",
    "# show the plot\n",
    "pyplot.show()\n",
    "acc"
   ]
  },
  {
   "cell_type": "markdown",
   "metadata": {},
   "source": [
    "# Self consistency CM SVM"
   ]
  },
  {
   "cell_type": "code",
   "execution_count": 29,
   "metadata": {},
   "outputs": [
    {
     "name": "stdout",
     "output_type": "stream",
     "text": [
      "\n",
      "Self-Consistency\n",
      "True Negative: 502, False Positive: 70, False Negative: 37, True Positive: 535\n",
      "Accuracy: 90.65, Sensitivity: 0.9353146853146853, Specificity: 0.8776223776223776, Precision: 0.8842975206611571, MCC: 0.8388503977144525\n"
     ]
    },
    {
     "data": {
      "image/png": "[encoded data removed]",
      "text/plain": [
       "<Figure size 432x288 with 2 Axes>"
      ]
     },
     "metadata": {
      "needs_background": "light"
     },
     "output_type": "display_data"
    }
   ],
   "source": [
    "import matplotlib.pyplot as plt\n",
    "from sklearn.metrics import confusion_matrix, accuracy_score, precision_score, recall_score, matthews_corrcoef\n",
    "import numpy as np\n",
    "\n",
    "print('\\nSelf-Consistency')\n",
    "clf = SVC(probability=True, kernel='linear').fit(X, Y.ravel())\n",
    "\n",
    "pred = np.round(clf.predict(X)) # clf\n",
    "tn, fp, fn, tp = confusion_matrix(Y, pred, labels=[1, 0]).ravel()\n",
    "acc = np.round(((tn + tp) / (tn + fp + fn + tp)) * 100, 2)\n",
    "sn = tp / (tp + fn)\n",
    "sp = tn / (tn + fp)\n",
    "prec = tp / (tp + fp)\n",
    "mcc = ((tp * tn - fp * fn) / (math.sqrt((tp + fp) * (tp + fn) * (tn + fn) * (tn + fn))))\n",
    "print(f'True Negative: {tn}, False Positive: {fp}, False Negative: {fn}, True Positive: {tp}')\n",
    "print(f'Accuracy: {acc}, Sensitivity: {sn}, Specificity: {sp}, Precision: {prec}, MCC: {mcc}')\n",
    "\n",
    "# Plot confusion matrix\n",
    "plt.figure()\n",
    "cm = confusion_matrix(Y, pred)\n",
    "plt.imshow(cm, interpolation='nearest', cmap=plt.cm.Blues)\n",
    "plt.title('Confusion Matrix')\n",
    "plt.colorbar()\n",
    "tick_marks = np.arange(len(np.unique(Y)))\n",
    "plt.xticks(tick_marks, ['Predicted 0', 'Predicted 1'])\n",
    "plt.yticks(tick_marks, ['True 0', 'True 1'])\n",
    "\n",
    "# Add text annotations to each cell\n",
    "thresh = cm.max() / 2.\n",
    "for i, j in np.ndindex(cm.shape):\n",
    "    plt.text(j, i, format(cm[i, j], 'd'),\n",
    "             ha=\"center\", va=\"center\",\n",
    "             color=\"white\" if cm[i, j] > thresh else \"black\")\n",
    "\n",
    "plt.ylabel('True label')\n",
    "plt.xlabel('Predicted label')\n",
    "plt.tight_layout()\n",
    "plt.show()\n"
   ]
  },
  {
   "cell_type": "markdown",
   "metadata": {},
   "source": [
    "# Self consistency with RF"
   ]
  },
  {
   "cell_type": "code",
   "execution_count": 30,
   "metadata": {},
   "outputs": [
    {
     "name": "stdout",
     "output_type": "stream",
     "text": [
      "\n",
      "Self-Consistency\n"
     ]
    },
    {
     "name": "stderr",
     "output_type": "stream",
     "text": [
      "c:\\Users\\Shazia Khan\\anaconda3\\envs\\golf\\lib\\site-packages\\sklearn\\ensemble\\_forest.py:541: UserWarning: Some inputs do not have OOB scores. This probably means too few trees were used to compute any reliable oob estimates.\n",
      "  warn(\"Some inputs do not have OOB scores. \"\n",
      "c:\\Users\\Shazia Khan\\anaconda3\\envs\\golf\\lib\\site-packages\\sklearn\\ensemble\\_forest.py:546: RuntimeWarning: invalid value encountered in true_divide\n",
      "  predictions[k].sum(axis=1)[:, np.newaxis])\n"
     ]
    },
    {
     "name": "stdout",
     "output_type": "stream",
     "text": [
      "[562, 10, 4, 568, 98.78, 0.993006993006993, 'Accuracy =', 98.78, 'specificity=', 0.9825174825174825, 'Sensitivity =', 0.993006993006993, 'Precession =', 0.9826989619377162, 'MCC =', 0.9807354255986875]\n"
     ]
    },
    {
     "data": {
      "text/plain": [
       "<matplotlib.legend.Legend at 0x26b5eced7f0>"
      ]
     },
     "execution_count": 30,
     "metadata": {},
     "output_type": "execute_result"
    },
    {
     "data": {
      "image/png": "[encoded data removed]",
      "text/plain": [
       "<Figure size 432x288 with 1 Axes>"
      ]
     },
     "metadata": {
      "needs_background": "light"
     },
     "output_type": "display_data"
    }
   ],
   "source": [
    "import matplotlib.pyplot as pyplot\n",
    "print('\\nSelf-Consistency')\n",
    "clf = RandomForestClassifier(n_estimators=16, max_depth=40, oob_score=True, n_jobs=-1, warm_start=True).fit(X, Y.ravel())\n",
    "#clf = MLPClassifier(solver='lbfgs', alpha=1e-5,hidden_layer_sizes=(5, 2), random_state=1).fit(X, Y.ravel())\n",
    "# clf = SVC(probability=True, kernel='linear').fit(X, Y.ravel())\n",
    "\n",
    "pred = np.round(clf.predict(X)) # clf\n",
    "tn, fp, fn, tp = confusion_matrix(Y, pred, labels=[1, 0]).ravel()\n",
    "acc = np.round(((tn + tp) / (tn + fp + fn + tp)) * 100, 2)\n",
    "sn=(tp/(tp+fn))\n",
    "sp=(tn/(tn+fp))\n",
    "prec=(tp/(tp+fp))\n",
    "mcc=((tp*tn-fp*fn)/(math.sqrt((tp+fp)*(tp+fn)*(tn+fn)*(tn+fn))))\n",
    "print([tn, fp, fn, tp, acc, sn, 'Accuracy =', acc, 'specificity=', sp, 'Sensitivity =', sn, 'Precession =', prec, 'MCC =', mcc ])\n",
    "ns_probs1 = [0 for _ in range(len(Y))]\n",
    "lr_probs1 = clf.predict_proba(X) # clf\n",
    "# keep probabilities for the positive outcome only\n",
    "lr_probs1 = lr_probs1[:, 1]\n",
    "ns_fpr1, ns_tpr1, _ = roc_curve(Y, ns_probs1)\n",
    "lr_fpr1, lr_tpr1, _ = roc_curve(Y, lr_probs1)\n",
    "# plot the roc curve for the model\n",
    "pyplot.plot(ns_fpr1, ns_tpr1, linestyle='--')\n",
    "pyplot.plot(lr_fpr1, lr_tpr1, marker='.', label='Self-Consistency')\n",
    "pyplot.plot(lr_fpr1, lr_tpr1, marker='.', label='Self-Consistency')\n",
    "\n",
    "# axis labels\n",
    "pyplot.xlabel('False Positive Rate')\n",
    "pyplot.ylabel('True Positive Rate')\n",
    "# show the legend\n",
    "pyplot.legend()"
   ]
  },
  {
   "cell_type": "markdown",
   "metadata": {},
   "source": [
    "# CM with RF self consistency"
   ]
  },
  {
   "cell_type": "code",
   "execution_count": 31,
   "metadata": {},
   "outputs": [
    {
     "name": "stdout",
     "output_type": "stream",
     "text": [
      "\n",
      "Self-Consistency\n",
      "True Negative: 560, False Positive: 12, False Negative: 3, True Positive: 569\n",
      "Accuracy: 98.69, Sensitivity: 0.9947552447552448, Specificity: 0.9790209790209791, Precision: 0.9793459552495697, MCC: 0.98165017540999\n"
     ]
    },
    {
     "data": {
      "image/png": "[encoded data removed]",
      "text/plain": [
       "<Figure size 432x288 with 2 Axes>"
      ]
     },
     "metadata": {
      "needs_background": "light"
     },
     "output_type": "display_data"
    }
   ],
   "source": [
    "import matplotlib.pyplot as plt\n",
    "from sklearn.metrics import confusion_matrix, accuracy_score, precision_score, recall_score, matthews_corrcoef\n",
    "import numpy as np\n",
    "\n",
    "print('\\nSelf-Consistency')\n",
    "clf = RandomForestClassifier(n_estimators=16, max_depth=40, oob_score=True, n_jobs=-1, warm_start=True).fit(X, Y.ravel())\n",
    "\n",
    "pred = np.round(clf.predict(X)) # clf\n",
    "tn, fp, fn, tp = confusion_matrix(Y, pred, labels=[1, 0]).ravel()\n",
    "acc = np.round(((tn + tp) / (tn + fp + fn + tp)) * 100, 2)\n",
    "sn = tp / (tp + fn)\n",
    "sp = tn / (tn + fp)\n",
    "prec = tp / (tp + fp)\n",
    "mcc = ((tp * tn - fp * fn) / (math.sqrt((tp + fp) * (tp + fn) * (tn + fn) * (tn + fn))))\n",
    "print(f'True Negative: {tn}, False Positive: {fp}, False Negative: {fn}, True Positive: {tp}')\n",
    "print(f'Accuracy: {acc}, Sensitivity: {sn}, Specificity: {sp}, Precision: {prec}, MCC: {mcc}')\n",
    "\n",
    "# Plot confusion matrix\n",
    "plt.figure()\n",
    "cm = confusion_matrix(Y, pred)\n",
    "plt.imshow(cm, interpolation='nearest', cmap=plt.cm.Blues)\n",
    "plt.title('Confusion Matrix')\n",
    "plt.colorbar()\n",
    "tick_marks = np.arange(len(np.unique(Y)))\n",
    "plt.xticks(tick_marks, ['Predicted 0', 'Predicted 1'])\n",
    "plt.yticks(tick_marks, ['True 0', 'True 1'])\n",
    "\n",
    "# Add text annotations to each cell\n",
    "thresh = cm.max() / 2.\n",
    "for i, j in np.ndindex(cm.shape):\n",
    "    plt.text(j, i, format(cm[i, j], 'd'),\n",
    "             ha=\"center\", va=\"center\",\n",
    "             color=\"white\" if cm[i, j] > thresh else \"black\")\n",
    "\n",
    "plt.ylabel('True label')\n",
    "plt.xlabel('Predicted label')\n",
    "plt.tight_layout()\n",
    "plt.show()\n"
   ]
  },
  {
   "cell_type": "markdown",
   "metadata": {},
   "source": [
    "# JackKnife with RF"
   ]
  },
  {
   "cell_type": "code",
   "execution_count": 34,
   "metadata": {},
   "outputs": [
    {
     "name": "stdout",
     "output_type": "stream",
     "text": [
      "\n",
      "Jacknife testing\n",
      "\n",
      "Jacknife : 1\n"
     ]
    },
    {
     "name": "stderr",
     "output_type": "stream",
     "text": [
      "c:\\Users\\Shazia Khan\\anaconda3\\envs\\golf\\lib\\site-packages\\ipykernel_launcher.py:21: RuntimeWarning: invalid value encountered in longlong_scalars\n",
      "c:\\Users\\Shazia Khan\\anaconda3\\envs\\golf\\lib\\site-packages\\ipykernel_launcher.py:23: RuntimeWarning: invalid value encountered in longlong_scalars\n",
      "c:\\Users\\Shazia Khan\\anaconda3\\envs\\golf\\lib\\site-packages\\ipykernel_launcher.py:24: RuntimeWarning: invalid value encountered in true_divide\n"
     ]
    },
    {
     "name": "stdout",
     "output_type": "stream",
     "text": [
      "[58, 0, 0, 0, 'Accuracy =', 100.0, 'Sensitivity =', nan, 'specificity=', 1.0, 'Precession =', nan, 'MCC =', nan]\n",
      "\n",
      "Jacknife : 2\n"
     ]
    },
    {
     "name": "stderr",
     "output_type": "stream",
     "text": [
      "c:\\Users\\Shazia Khan\\anaconda3\\envs\\golf\\lib\\site-packages\\ipykernel_launcher.py:21: RuntimeWarning: invalid value encountered in longlong_scalars\n",
      "c:\\Users\\Shazia Khan\\anaconda3\\envs\\golf\\lib\\site-packages\\ipykernel_launcher.py:23: RuntimeWarning: invalid value encountered in longlong_scalars\n",
      "c:\\Users\\Shazia Khan\\anaconda3\\envs\\golf\\lib\\site-packages\\ipykernel_launcher.py:24: RuntimeWarning: invalid value encountered in true_divide\n"
     ]
    },
    {
     "name": "stdout",
     "output_type": "stream",
     "text": [
      "[58, 0, 0, 0, 'Accuracy =', 100.0, 'Sensitivity =', nan, 'specificity=', 1.0, 'Precession =', nan, 'MCC =', nan]\n",
      "\n",
      "Jacknife : 3\n"
     ]
    },
    {
     "name": "stderr",
     "output_type": "stream",
     "text": [
      "c:\\Users\\Shazia Khan\\anaconda3\\envs\\golf\\lib\\site-packages\\ipykernel_launcher.py:21: RuntimeWarning: invalid value encountered in longlong_scalars\n",
      "c:\\Users\\Shazia Khan\\anaconda3\\envs\\golf\\lib\\site-packages\\ipykernel_launcher.py:24: RuntimeWarning: invalid value encountered in true_divide\n"
     ]
    },
    {
     "name": "stdout",
     "output_type": "stream",
     "text": [
      "[55, 3, 0, 0, 'Accuracy =', 94.83, 'Sensitivity =', nan, 'specificity=', 1.0, 'Precession =', 0.0, 'MCC =', nan]\n",
      "\n",
      "Jacknife : 4\n"
     ]
    },
    {
     "name": "stderr",
     "output_type": "stream",
     "text": [
      "c:\\Users\\Shazia Khan\\anaconda3\\envs\\golf\\lib\\site-packages\\ipykernel_launcher.py:21: RuntimeWarning: invalid value encountered in longlong_scalars\n",
      "c:\\Users\\Shazia Khan\\anaconda3\\envs\\golf\\lib\\site-packages\\ipykernel_launcher.py:23: RuntimeWarning: invalid value encountered in longlong_scalars\n",
      "c:\\Users\\Shazia Khan\\anaconda3\\envs\\golf\\lib\\site-packages\\ipykernel_launcher.py:24: RuntimeWarning: invalid value encountered in true_divide\n"
     ]
    },
    {
     "name": "stdout",
     "output_type": "stream",
     "text": [
      "[58, 0, 0, 0, 'Accuracy =', 100.0, 'Sensitivity =', nan, 'specificity=', 1.0, 'Precession =', nan, 'MCC =', nan]\n",
      "\n",
      "Jacknife : 5\n"
     ]
    },
    {
     "name": "stderr",
     "output_type": "stream",
     "text": [
      "c:\\Users\\Shazia Khan\\anaconda3\\envs\\golf\\lib\\site-packages\\ipykernel_launcher.py:21: RuntimeWarning: invalid value encountered in longlong_scalars\n",
      "c:\\Users\\Shazia Khan\\anaconda3\\envs\\golf\\lib\\site-packages\\ipykernel_launcher.py:24: RuntimeWarning: invalid value encountered in true_divide\n"
     ]
    },
    {
     "name": "stdout",
     "output_type": "stream",
     "text": [
      "[54, 3, 0, 0, 'Accuracy =', 94.74, 'Sensitivity =', nan, 'specificity=', 1.0, 'Precession =', 0.0, 'MCC =', nan]\n",
      "\n",
      "Jacknife : 6\n"
     ]
    },
    {
     "name": "stderr",
     "output_type": "stream",
     "text": [
      "c:\\Users\\Shazia Khan\\anaconda3\\envs\\golf\\lib\\site-packages\\ipykernel_launcher.py:21: RuntimeWarning: invalid value encountered in longlong_scalars\n",
      "c:\\Users\\Shazia Khan\\anaconda3\\envs\\golf\\lib\\site-packages\\ipykernel_launcher.py:23: RuntimeWarning: invalid value encountered in longlong_scalars\n",
      "c:\\Users\\Shazia Khan\\anaconda3\\envs\\golf\\lib\\site-packages\\ipykernel_launcher.py:24: RuntimeWarning: invalid value encountered in true_divide\n"
     ]
    },
    {
     "name": "stdout",
     "output_type": "stream",
     "text": [
      "[57, 0, 0, 0, 'Accuracy =', 100.0, 'Sensitivity =', nan, 'specificity=', 1.0, 'Precession =', nan, 'MCC =', nan]\n",
      "\n",
      "Jacknife : 7\n"
     ]
    },
    {
     "name": "stderr",
     "output_type": "stream",
     "text": [
      "c:\\Users\\Shazia Khan\\anaconda3\\envs\\golf\\lib\\site-packages\\ipykernel_launcher.py:21: RuntimeWarning: invalid value encountered in longlong_scalars\n",
      "c:\\Users\\Shazia Khan\\anaconda3\\envs\\golf\\lib\\site-packages\\ipykernel_launcher.py:23: RuntimeWarning: invalid value encountered in longlong_scalars\n",
      "c:\\Users\\Shazia Khan\\anaconda3\\envs\\golf\\lib\\site-packages\\ipykernel_launcher.py:24: RuntimeWarning: invalid value encountered in true_divide\n"
     ]
    },
    {
     "name": "stdout",
     "output_type": "stream",
     "text": [
      "[57, 0, 0, 0, 'Accuracy =', 100.0, 'Sensitivity =', nan, 'specificity=', 1.0, 'Precession =', nan, 'MCC =', nan]\n",
      "\n",
      "Jacknife : 8\n",
      "[18, 1, 0, 38, 'Accuracy =', 98.25, 'Sensitivity =', 1.0, 'specificity=', 1.0, 'Precession =', 1.0, 'MCC =', 1.0]\n",
      "\n",
      "Jacknife : 9\n"
     ]
    },
    {
     "name": "stderr",
     "output_type": "stream",
     "text": [
      "c:\\Users\\Shazia Khan\\anaconda3\\envs\\golf\\lib\\site-packages\\ipykernel_launcher.py:22: RuntimeWarning: invalid value encountered in longlong_scalars\n"
     ]
    },
    {
     "name": "stdout",
     "output_type": "stream",
     "text": [
      "[0, 0, 1, 56, 'Accuracy =', 98.25, 'Sensitivity =', 1.0, 'specificity=', nan, 'Precession =', 1.0, 'MCC =', 0.0]\n",
      "\n",
      "Jacknife : 10\n"
     ]
    },
    {
     "name": "stderr",
     "output_type": "stream",
     "text": [
      "c:\\Users\\Shazia Khan\\anaconda3\\envs\\golf\\lib\\site-packages\\ipykernel_launcher.py:22: RuntimeWarning: invalid value encountered in longlong_scalars\n"
     ]
    },
    {
     "name": "stdout",
     "output_type": "stream",
     "text": [
      "[0, 0, 1, 56, 'Accuracy =', 98.25, 'Sensitivity =', 1.0, 'specificity=', nan, 'Precession =', 1.0, 'MCC =', 0.0]\n",
      "\n",
      "Jacknife : 11\n"
     ]
    },
    {
     "name": "stderr",
     "output_type": "stream",
     "text": [
      "c:\\Users\\Shazia Khan\\anaconda3\\envs\\golf\\lib\\site-packages\\ipykernel_launcher.py:22: RuntimeWarning: invalid value encountered in longlong_scalars\n",
      "c:\\Users\\Shazia Khan\\anaconda3\\envs\\golf\\lib\\site-packages\\ipykernel_launcher.py:24: RuntimeWarning: invalid value encountered in true_divide\n"
     ]
    },
    {
     "name": "stdout",
     "output_type": "stream",
     "text": [
      "[0, 0, 0, 57, 'Accuracy =', 100.0, 'Sensitivity =', 1.0, 'specificity=', nan, 'Precession =', 1.0, 'MCC =', nan]\n",
      "\n",
      "Jacknife : 12\n"
     ]
    },
    {
     "name": "stderr",
     "output_type": "stream",
     "text": [
      "c:\\Users\\Shazia Khan\\anaconda3\\envs\\golf\\lib\\site-packages\\ipykernel_launcher.py:22: RuntimeWarning: invalid value encountered in longlong_scalars\n",
      "c:\\Users\\Shazia Khan\\anaconda3\\envs\\golf\\lib\\site-packages\\ipykernel_launcher.py:24: RuntimeWarning: invalid value encountered in true_divide\n"
     ]
    },
    {
     "name": "stdout",
     "output_type": "stream",
     "text": [
      "[0, 0, 0, 57, 'Accuracy =', 100.0, 'Sensitivity =', 1.0, 'specificity=', nan, 'Precession =', 1.0, 'MCC =', nan]\n",
      "\n",
      "Jacknife : 13\n"
     ]
    },
    {
     "name": "stderr",
     "output_type": "stream",
     "text": [
      "c:\\Users\\Shazia Khan\\anaconda3\\envs\\golf\\lib\\site-packages\\sklearn\\ensemble\\_forest.py:541: UserWarning: Some inputs do not have OOB scores. This probably means too few trees were used to compute any reliable oob estimates.\n",
      "  warn(\"Some inputs do not have OOB scores. \"\n",
      "c:\\Users\\Shazia Khan\\anaconda3\\envs\\golf\\lib\\site-packages\\sklearn\\ensemble\\_forest.py:546: RuntimeWarning: invalid value encountered in true_divide\n",
      "  predictions[k].sum(axis=1)[:, np.newaxis])\n",
      "c:\\Users\\Shazia Khan\\anaconda3\\envs\\golf\\lib\\site-packages\\ipykernel_launcher.py:22: RuntimeWarning: invalid value encountered in longlong_scalars\n"
     ]
    },
    {
     "name": "stdout",
     "output_type": "stream",
     "text": [
      "[0, 0, 1, 56, 'Accuracy =', 98.25, 'Sensitivity =', 1.0, 'specificity=', nan, 'Precession =', 1.0, 'MCC =', 0.0]\n",
      "\n",
      "Jacknife : 14\n"
     ]
    },
    {
     "name": "stderr",
     "output_type": "stream",
     "text": [
      "c:\\Users\\Shazia Khan\\anaconda3\\envs\\golf\\lib\\site-packages\\ipykernel_launcher.py:22: RuntimeWarning: invalid value encountered in longlong_scalars\n"
     ]
    },
    {
     "name": "stdout",
     "output_type": "stream",
     "text": [
      "[0, 0, 1, 56, 'Accuracy =', 98.25, 'Sensitivity =', 1.0, 'specificity=', nan, 'Precession =', 1.0, 'MCC =', 0.0]\n",
      "\n",
      "Jacknife : 15\n",
      "[15, 0, 0, 42, 'Accuracy =', 100.0, 'Sensitivity =', 1.0, 'specificity=', 1.0, 'Precession =', 1.0, 'MCC =', 1.0]\n",
      "\n",
      "Jacknife : 16\n"
     ]
    },
    {
     "name": "stderr",
     "output_type": "stream",
     "text": [
      "c:\\Users\\Shazia Khan\\anaconda3\\envs\\golf\\lib\\site-packages\\ipykernel_launcher.py:21: RuntimeWarning: invalid value encountered in longlong_scalars\n",
      "c:\\Users\\Shazia Khan\\anaconda3\\envs\\golf\\lib\\site-packages\\ipykernel_launcher.py:24: RuntimeWarning: invalid value encountered in true_divide\n"
     ]
    },
    {
     "name": "stdout",
     "output_type": "stream",
     "text": [
      "[56, 1, 0, 0, 'Accuracy =', 98.25, 'Sensitivity =', nan, 'specificity=', 1.0, 'Precession =', 0.0, 'MCC =', nan]\n",
      "\n",
      "Jacknife : 17\n"
     ]
    },
    {
     "name": "stderr",
     "output_type": "stream",
     "text": [
      "c:\\Users\\Shazia Khan\\anaconda3\\envs\\golf\\lib\\site-packages\\ipykernel_launcher.py:21: RuntimeWarning: invalid value encountered in longlong_scalars\n",
      "c:\\Users\\Shazia Khan\\anaconda3\\envs\\golf\\lib\\site-packages\\ipykernel_launcher.py:23: RuntimeWarning: invalid value encountered in longlong_scalars\n",
      "c:\\Users\\Shazia Khan\\anaconda3\\envs\\golf\\lib\\site-packages\\ipykernel_launcher.py:24: RuntimeWarning: invalid value encountered in true_divide\n"
     ]
    },
    {
     "name": "stdout",
     "output_type": "stream",
     "text": [
      "[57, 0, 0, 0, 'Accuracy =', 100.0, 'Sensitivity =', nan, 'specificity=', 1.0, 'Precession =', nan, 'MCC =', nan]\n",
      "\n",
      "Jacknife : 18\n",
      "[19, 2, 0, 36, 'Accuracy =', 96.49, 'Sensitivity =', 1.0, 'specificity=', 1.0, 'Precession =', 1.0, 'MCC =', 1.0]\n",
      "\n",
      "Jacknife : 19\n"
     ]
    },
    {
     "name": "stderr",
     "output_type": "stream",
     "text": [
      "c:\\Users\\Shazia Khan\\anaconda3\\envs\\golf\\lib\\site-packages\\ipykernel_launcher.py:22: RuntimeWarning: invalid value encountered in longlong_scalars\n",
      "c:\\Users\\Shazia Khan\\anaconda3\\envs\\golf\\lib\\site-packages\\ipykernel_launcher.py:24: RuntimeWarning: invalid value encountered in true_divide\n"
     ]
    },
    {
     "name": "stdout",
     "output_type": "stream",
     "text": [
      "[0, 0, 0, 57, 'Accuracy =', 100.0, 'Sensitivity =', 1.0, 'specificity=', nan, 'Precession =', 1.0, 'MCC =', nan]\n",
      "\n",
      "Jacknife : 20\n"
     ]
    },
    {
     "name": "stderr",
     "output_type": "stream",
     "text": [
      "c:\\Users\\Shazia Khan\\anaconda3\\envs\\golf\\lib\\site-packages\\ipykernel_launcher.py:22: RuntimeWarning: invalid value encountered in longlong_scalars\n"
     ]
    },
    {
     "name": "stdout",
     "output_type": "stream",
     "text": [
      "[0, 0, 1, 56, 'Accuracy =', 98.25, 'Sensitivity =', 1.0, 'specificity=', nan, 'Precession =', 1.0, 'MCC =', 0.0]\n",
      "\n",
      "Final Jacknife Score =  98.69\n"
     ]
    },
    {
     "data": {
      "image/png": "[encoded data removed]",
      "text/plain": [
       "<Figure size 432x288 with 1 Axes>"
      ]
     },
     "metadata": {
      "needs_background": "light"
     },
     "output_type": "display_data"
    },
    {
     "ename": "ValueError",
     "evalue": "Found input variables with inconsistent numbers of samples: [344, 1144]",
     "output_type": "error",
     "traceback": [
      "\u001b[1;31m---------------------------------------------------------------------------\u001b[0m",
      "\u001b[1;31mValueError\u001b[0m                                Traceback (most recent call last)",
      "\u001b[1;32m<ipython-input-34-36d272487e5a>\u001b[0m in \u001b[0;36m<module>\u001b[1;34m\u001b[0m\n\u001b[0;32m     63\u001b[0m \u001b[1;33m\u001b[0m\u001b[0m\n\u001b[0;32m     64\u001b[0m \u001b[1;31m# plot the roc curve for the model\u001b[0m\u001b[1;33m\u001b[0m\u001b[1;33m\u001b[0m\u001b[1;33m\u001b[0m\u001b[0m\n\u001b[1;32m---> 65\u001b[1;33m \u001b[0mns_fpr2\u001b[0m\u001b[1;33m,\u001b[0m \u001b[0mns_tpr2\u001b[0m\u001b[1;33m,\u001b[0m \u001b[0m_\u001b[0m \u001b[1;33m=\u001b[0m \u001b[0mroc_curve\u001b[0m\u001b[1;33m(\u001b[0m\u001b[0my_test\u001b[0m\u001b[1;33m,\u001b[0m \u001b[0mns_probs1\u001b[0m\u001b[1;33m)\u001b[0m \u001b[1;31m# this is needed to be check as I suppose to be true but needed verification\u001b[0m\u001b[1;33m\u001b[0m\u001b[1;33m\u001b[0m\u001b[0m\n\u001b[0m\u001b[0;32m     66\u001b[0m \u001b[0mroc_auc\u001b[0m \u001b[1;33m=\u001b[0m \u001b[0mauc\u001b[0m\u001b[1;33m(\u001b[0m\u001b[0mfpr\u001b[0m\u001b[1;33m,\u001b[0m \u001b[0mtpr\u001b[0m\u001b[1;33m)\u001b[0m\u001b[1;33m\u001b[0m\u001b[1;33m\u001b[0m\u001b[0m\n\u001b[0;32m     67\u001b[0m \u001b[0mpyplot\u001b[0m\u001b[1;33m.\u001b[0m\u001b[0mplot\u001b[0m\u001b[1;33m(\u001b[0m\u001b[0mns_fpr2\u001b[0m\u001b[1;33m,\u001b[0m \u001b[0mns_tpr2\u001b[0m\u001b[1;33m,\u001b[0m \u001b[0mlinestyle\u001b[0m\u001b[1;33m=\u001b[0m\u001b[1;34m'--'\u001b[0m\u001b[1;33m,\u001b[0m \u001b[0mcolor\u001b[0m\u001b[1;33m=\u001b[0m\u001b[1;34m'Blue'\u001b[0m\u001b[1;33m)\u001b[0m\u001b[1;33m\u001b[0m\u001b[1;33m\u001b[0m\u001b[0m\n",
      "\u001b[1;32mc:\\Users\\Shazia Khan\\anaconda3\\envs\\golf\\lib\\site-packages\\sklearn\\utils\\validation.py\u001b[0m in \u001b[0;36minner_f\u001b[1;34m(*args, **kwargs)\u001b[0m\n\u001b[0;32m     61\u001b[0m             \u001b[0mextra_args\u001b[0m \u001b[1;33m=\u001b[0m \u001b[0mlen\u001b[0m\u001b[1;33m(\u001b[0m\u001b[0margs\u001b[0m\u001b[1;33m)\u001b[0m \u001b[1;33m-\u001b[0m \u001b[0mlen\u001b[0m\u001b[1;33m(\u001b[0m\u001b[0mall_args\u001b[0m\u001b[1;33m)\u001b[0m\u001b[1;33m\u001b[0m\u001b[1;33m\u001b[0m\u001b[0m\n\u001b[0;32m     62\u001b[0m             \u001b[1;32mif\u001b[0m \u001b[0mextra_args\u001b[0m \u001b[1;33m<=\u001b[0m \u001b[1;36m0\u001b[0m\u001b[1;33m:\u001b[0m\u001b[1;33m\u001b[0m\u001b[1;33m\u001b[0m\u001b[0m\n\u001b[1;32m---> 63\u001b[1;33m                 \u001b[1;32mreturn\u001b[0m \u001b[0mf\u001b[0m\u001b[1;33m(\u001b[0m\u001b[1;33m*\u001b[0m\u001b[0margs\u001b[0m\u001b[1;33m,\u001b[0m \u001b[1;33m**\u001b[0m\u001b[0mkwargs\u001b[0m\u001b[1;33m)\u001b[0m\u001b[1;33m\u001b[0m\u001b[1;33m\u001b[0m\u001b[0m\n\u001b[0m\u001b[0;32m     64\u001b[0m \u001b[1;33m\u001b[0m\u001b[0m\n\u001b[0;32m     65\u001b[0m             \u001b[1;31m# extra_args > 0\u001b[0m\u001b[1;33m\u001b[0m\u001b[1;33m\u001b[0m\u001b[1;33m\u001b[0m\u001b[0m\n",
      "\u001b[1;32mc:\\Users\\Shazia Khan\\anaconda3\\envs\\golf\\lib\\site-packages\\sklearn\\metrics\\_ranking.py\u001b[0m in \u001b[0;36mroc_curve\u001b[1;34m(y_true, y_score, pos_label, sample_weight, drop_intermediate)\u001b[0m\n\u001b[0;32m    912\u001b[0m     \"\"\"\n\u001b[0;32m    913\u001b[0m     fps, tps, thresholds = _binary_clf_curve(\n\u001b[1;32m--> 914\u001b[1;33m         y_true, y_score, pos_label=pos_label, sample_weight=sample_weight)\n\u001b[0m\u001b[0;32m    915\u001b[0m \u001b[1;33m\u001b[0m\u001b[0m\n\u001b[0;32m    916\u001b[0m     \u001b[1;31m# Attempt to drop thresholds corresponding to points in between and\u001b[0m\u001b[1;33m\u001b[0m\u001b[1;33m\u001b[0m\u001b[1;33m\u001b[0m\u001b[0m\n",
      "\u001b[1;32mc:\\Users\\Shazia Khan\\anaconda3\\envs\\golf\\lib\\site-packages\\sklearn\\metrics\\_ranking.py\u001b[0m in \u001b[0;36m_binary_clf_curve\u001b[1;34m(y_true, y_score, pos_label, sample_weight)\u001b[0m\n\u001b[0;32m    691\u001b[0m         \u001b[1;32mraise\u001b[0m \u001b[0mValueError\u001b[0m\u001b[1;33m(\u001b[0m\u001b[1;34m\"{0} format is not supported\"\u001b[0m\u001b[1;33m.\u001b[0m\u001b[0mformat\u001b[0m\u001b[1;33m(\u001b[0m\u001b[0my_type\u001b[0m\u001b[1;33m)\u001b[0m\u001b[1;33m)\u001b[0m\u001b[1;33m\u001b[0m\u001b[1;33m\u001b[0m\u001b[0m\n\u001b[0;32m    692\u001b[0m \u001b[1;33m\u001b[0m\u001b[0m\n\u001b[1;32m--> 693\u001b[1;33m     \u001b[0mcheck_consistent_length\u001b[0m\u001b[1;33m(\u001b[0m\u001b[0my_true\u001b[0m\u001b[1;33m,\u001b[0m \u001b[0my_score\u001b[0m\u001b[1;33m,\u001b[0m \u001b[0msample_weight\u001b[0m\u001b[1;33m)\u001b[0m\u001b[1;33m\u001b[0m\u001b[1;33m\u001b[0m\u001b[0m\n\u001b[0m\u001b[0;32m    694\u001b[0m     \u001b[0my_true\u001b[0m \u001b[1;33m=\u001b[0m \u001b[0mcolumn_or_1d\u001b[0m\u001b[1;33m(\u001b[0m\u001b[0my_true\u001b[0m\u001b[1;33m)\u001b[0m\u001b[1;33m\u001b[0m\u001b[1;33m\u001b[0m\u001b[0m\n\u001b[0;32m    695\u001b[0m     \u001b[0my_score\u001b[0m \u001b[1;33m=\u001b[0m \u001b[0mcolumn_or_1d\u001b[0m\u001b[1;33m(\u001b[0m\u001b[0my_score\u001b[0m\u001b[1;33m)\u001b[0m\u001b[1;33m\u001b[0m\u001b[1;33m\u001b[0m\u001b[0m\n",
      "\u001b[1;32mc:\\Users\\Shazia Khan\\anaconda3\\envs\\golf\\lib\\site-packages\\sklearn\\utils\\validation.py\u001b[0m in \u001b[0;36mcheck_consistent_length\u001b[1;34m(*arrays)\u001b[0m\n\u001b[0;32m    318\u001b[0m     \u001b[1;32mif\u001b[0m \u001b[0mlen\u001b[0m\u001b[1;33m(\u001b[0m\u001b[0muniques\u001b[0m\u001b[1;33m)\u001b[0m \u001b[1;33m>\u001b[0m \u001b[1;36m1\u001b[0m\u001b[1;33m:\u001b[0m\u001b[1;33m\u001b[0m\u001b[1;33m\u001b[0m\u001b[0m\n\u001b[0;32m    319\u001b[0m         raise ValueError(\"Found input variables with inconsistent numbers of\"\n\u001b[1;32m--> 320\u001b[1;33m                          \" samples: %r\" % [int(l) for l in lengths])\n\u001b[0m\u001b[0;32m    321\u001b[0m \u001b[1;33m\u001b[0m\u001b[0m\n\u001b[0;32m    322\u001b[0m \u001b[1;33m\u001b[0m\u001b[0m\n",
      "\u001b[1;31mValueError\u001b[0m: Found input variables with inconsistent numbers of samples: [344, 1144]"
     ]
    },
    {
     "data": {
      "image/png": "[encoded data removed]",
      "text/plain": [
       "<Figure size 432x288 with 1 Axes>"
      ]
     },
     "metadata": {
      "needs_background": "light"
     },
     "output_type": "display_data"
    }
   ],
   "source": [
    "kfold = KFold(n_splits=20, shuffle=False)  # Removed Stratified Keyword for JackKnife\n",
    "cvscores = []\n",
    "iterator = 1\n",
    "cv_score = 0\n",
    "\n",
    "# Normalization\n",
    "std_scale = StandardScaler().fit(X)\n",
    "X = np.array(X, dtype='float64')\n",
    "#X = std_scale.transform(X)\n",
    "# pca = decomposition.PCA(n_components=2)\n",
    "# pca.fit(X)\n",
    "# X = pca.transform(X)\n",
    "print('\\nJacknife testing')\n",
    "for train, test in kfold.split(X, Y):\n",
    "    print('\\nJacknife : ' + str(iterator))\n",
    "    clf = RandomForestClassifier(n_estimators=30, max_depth=25, oob_score=True, n_jobs=-1, warm_start=False).fit(X, Y.ravel())\n",
    "    #clf = MLPClassifier(solver='lbfgs', alpha=1e-5,hidden_layer_sizes=(5, 2), random_state=1).fit(X, Y.ravel())\n",
    "    pred = np.round(clf.predict(X[test]))\n",
    "    tn2, fp2, fn2, tp2 = confusion_matrix(Y[test], pred, labels=[1, 0]).ravel()\n",
    "    acc2 = np.round(((tn2 + tp2)/ (tn2 + fp2 + fn2 + tp2)) * 100, 2)\n",
    "    sn2=np.round(tp2/(tp2+fn2))\n",
    "    sp2=np.round(tn2/(tn2+fp2))\n",
    "    prec2=np.round(tp2/(tp2+fp2))\n",
    "    mcc2=np.round((tp2*tn2-fp2*fn2)/(math.sqrt((tp2+fp2)*(tp2+fn2)*(tn2+fn2)*(tn2+fn2))))\n",
    "    cvscores.append([tn2, fp2, fn2, tp2, acc2, sn2, sp2, prec2, mcc2])\n",
    "    iterator = iterator + 1\n",
    "    print([tn2, fp2, fn2, tp2, 'Accuracy =', acc2, 'Sensitivity =', sn2, 'specificity=', sp2, 'Precession =', prec2, 'MCC =', mcc2])\n",
    "    cv_score = cv_score + acc2\n",
    "print('\\n\\rFinal Jacknife Score = ', np.round(cv_score / kfold.n_splits, 2))\n",
    "with open('./result3.csv', 'w', newline='') as csvfile:\n",
    "    resultwriter = csv.writer(csvfile, delimiter=',', quotechar='|')\n",
    "    resultwriter.writerow(['\\nJacknife'])\n",
    "    resultwriter.writerow(['True Negative' 'False Positive' 'False Negative' 'True Positive' 'Accuracy'])\n",
    "    for i in range(cvscores.__len__()):\n",
    "        resultwriter.writerow(cvscores[i])\n",
    "    resultwriter.writerow(['The Final Jacknife Score', '', '', '', np.round(cv_score / kfold.n_splits, 2)])\n",
    "\n",
    "from matplotlib import pyplot\n",
    "\n",
    "ns_probs1 = [0 for _ in range(len(Y))]\n",
    "lr_probs1 = clf.predict_proba(X)#clf\n",
    "# keep probabilities for the positive outcome only\n",
    "lr_probs1 = lr_probs1[:, 1]\n",
    "\n",
    "# calculate roc curves\n",
    "ns_fpr4, ns_tpr4, _ = roc_curve(Y, ns_probs1)\n",
    "lr_fpr4, lr_tpr4, _ = roc_curve(Y, lr_probs1)\n",
    "\n",
    "# plot the roc curve for the model\n",
    "pyplot.plot(ns_fpr4, ns_tpr4, linestyle='--')\n",
    "pyplot.plot(lr_fpr4, lr_tpr4, marker='.', label='Jacknife Testing')\n",
    "# axis labels\n",
    "pyplot.xlabel('False Positive Rate')\n",
    "pyplot.ylabel('True Positive Rate')\n",
    "# show the legend\n",
    "pyplot.legend()\n",
    "# show the plot\n",
    "pyplot.show()\n",
    "\n",
    "# plot the roc curve for the model\n",
    "pyplot.plot(ns_fpr1, ns_tpr1, linestyle='--', )\n",
    "pyplot.plot(lr_fpr1, lr_tpr1, marker='.', color='purple', label='Self-Consistency')\n",
    "\n",
    "# plot the roc curve for the model\n",
    "ns_fpr2, ns_tpr2, _ = roc_curve(y_test, ns_probs1) # this is needed to be check as I suppose to be true but needed verification\n",
    "roc_auc = auc(fpr, tpr)\n",
    "pyplot.plot(ns_fpr2, ns_tpr2, linestyle='--', color='Blue')\n",
    "pyplot.plot(lr_fpr2, lr_tpr2, linestyle='-', color='Green', label='10-fold Cross Validation')\n",
    "\n",
    "# plot the roc curve for the model\n",
    "pyplot.plot(ns_fpr3, ns_tpr3, linestyle='--')\n",
    "pyplot.plot(lr_fpr3, lr_tpr3, marker='.', color='Cyan', label='Independent Testing')\n",
    "\n",
    "# plot the roc curve for the model\n",
    "pyplot.plot(ns_fpr4, ns_tpr4, linestyle='--')\n",
    "pyplot.plot(lr_fpr4, lr_tpr4, marker='.', color='yellow', label='Jacknife Testing')\n",
    "\n",
    "pyplot.plot(fpr, tpr, color='darkorange', lw=2, label='ROC curve (area = %0.2f)' % roc_auc)\n",
    "\n",
    "\n",
    "# axis labels\n",
    "pyplot.xlabel('False Positive Rate')\n",
    "pyplot.ylabel('True Positive Rate')\n",
    "# show the legend\n",
    "pyplot.legend()\n",
    "\n",
    "pyplot.text(0.6, 0.2, 'AUC = %0.2f' % roc_auc, fontsize=12, bbox=dict(facecolor='red', edgecolor='gray', boxstyle='round,pad=0.5'))\n",
    "\n"
   ]
  },
  {
   "cell_type": "code",
   "execution_count": 39,
   "metadata": {},
   "outputs": [
    {
     "name": "stdout",
     "output_type": "stream",
     "text": [
      "The shape of X is: (1144, 210)\n",
      "The shape of Y is: (1144, 1)\n",
      "\n",
      "Fold 1\n"
     ]
    },
    {
     "name": "stderr",
     "output_type": "stream",
     "text": [
      "c:\\Users\\Shazia Khan\\anaconda3\\envs\\golf\\lib\\site-packages\\ipykernel_launcher.py:43: RuntimeWarning: invalid value encountered in longlong_scalars\n",
      "c:\\Users\\Shazia Khan\\anaconda3\\envs\\golf\\lib\\site-packages\\ipykernel_launcher.py:46: RuntimeWarning: invalid value encountered in true_divide\n"
     ]
    },
    {
     "name": "stdout",
     "output_type": "stream",
     "text": [
      "Confusion Matrix:\n",
      "[[ 0  0]\n",
      " [ 5 53]]\n",
      "Accuracy: 91.38%, Sensitivity: nan, Specificity: 0.91, Precision: 0.00, MCC: nan\n",
      "\n",
      "Fold 2\n"
     ]
    },
    {
     "name": "stderr",
     "output_type": "stream",
     "text": [
      "c:\\Users\\Shazia Khan\\anaconda3\\envs\\golf\\lib\\site-packages\\ipykernel_launcher.py:43: RuntimeWarning: invalid value encountered in longlong_scalars\n",
      "c:\\Users\\Shazia Khan\\anaconda3\\envs\\golf\\lib\\site-packages\\ipykernel_launcher.py:46: RuntimeWarning: invalid value encountered in true_divide\n"
     ]
    },
    {
     "name": "stdout",
     "output_type": "stream",
     "text": [
      "Confusion Matrix:\n",
      "[[ 0  0]\n",
      " [ 6 52]]\n",
      "Accuracy: 89.66%, Sensitivity: nan, Specificity: 0.90, Precision: 0.00, MCC: nan\n",
      "\n",
      "Fold 3\n"
     ]
    },
    {
     "name": "stderr",
     "output_type": "stream",
     "text": [
      "c:\\Users\\Shazia Khan\\anaconda3\\envs\\golf\\lib\\site-packages\\ipykernel_launcher.py:43: RuntimeWarning: invalid value encountered in longlong_scalars\n",
      "c:\\Users\\Shazia Khan\\anaconda3\\envs\\golf\\lib\\site-packages\\ipykernel_launcher.py:46: RuntimeWarning: invalid value encountered in true_divide\n"
     ]
    },
    {
     "name": "stdout",
     "output_type": "stream",
     "text": [
      "Confusion Matrix:\n",
      "[[ 0  0]\n",
      " [ 9 49]]\n",
      "Accuracy: 84.48%, Sensitivity: nan, Specificity: 0.84, Precision: 0.00, MCC: nan\n",
      "\n",
      "Fold 4\n"
     ]
    },
    {
     "name": "stderr",
     "output_type": "stream",
     "text": [
      "c:\\Users\\Shazia Khan\\anaconda3\\envs\\golf\\lib\\site-packages\\ipykernel_launcher.py:43: RuntimeWarning: invalid value encountered in longlong_scalars\n",
      "c:\\Users\\Shazia Khan\\anaconda3\\envs\\golf\\lib\\site-packages\\ipykernel_launcher.py:46: RuntimeWarning: invalid value encountered in true_divide\n"
     ]
    },
    {
     "name": "stdout",
     "output_type": "stream",
     "text": [
      "Confusion Matrix:\n",
      "[[ 0  0]\n",
      " [ 7 51]]\n",
      "Accuracy: 87.93%, Sensitivity: nan, Specificity: 0.88, Precision: 0.00, MCC: nan\n",
      "\n",
      "Fold 5\n"
     ]
    },
    {
     "name": "stderr",
     "output_type": "stream",
     "text": [
      "c:\\Users\\Shazia Khan\\anaconda3\\envs\\golf\\lib\\site-packages\\ipykernel_launcher.py:43: RuntimeWarning: invalid value encountered in longlong_scalars\n",
      "c:\\Users\\Shazia Khan\\anaconda3\\envs\\golf\\lib\\site-packages\\ipykernel_launcher.py:46: RuntimeWarning: invalid value encountered in true_divide\n"
     ]
    },
    {
     "name": "stdout",
     "output_type": "stream",
     "text": [
      "Confusion Matrix:\n",
      "[[ 0  0]\n",
      " [38 19]]\n",
      "Accuracy: 33.33%, Sensitivity: nan, Specificity: 0.33, Precision: 0.00, MCC: nan\n",
      "\n",
      "Fold 6\n"
     ]
    },
    {
     "name": "stderr",
     "output_type": "stream",
     "text": [
      "c:\\Users\\Shazia Khan\\anaconda3\\envs\\golf\\lib\\site-packages\\ipykernel_launcher.py:43: RuntimeWarning: invalid value encountered in longlong_scalars\n",
      "c:\\Users\\Shazia Khan\\anaconda3\\envs\\golf\\lib\\site-packages\\ipykernel_launcher.py:45: RuntimeWarning: invalid value encountered in longlong_scalars\n",
      "c:\\Users\\Shazia Khan\\anaconda3\\envs\\golf\\lib\\site-packages\\ipykernel_launcher.py:46: RuntimeWarning: invalid value encountered in true_divide\n"
     ]
    },
    {
     "name": "stdout",
     "output_type": "stream",
     "text": [
      "Confusion Matrix:\n",
      "[[57]]\n",
      "Accuracy: 100.00%, Sensitivity: nan, Specificity: 1.00, Precision: nan, MCC: nan\n",
      "\n",
      "Fold 7\n"
     ]
    },
    {
     "name": "stderr",
     "output_type": "stream",
     "text": [
      "c:\\Users\\Shazia Khan\\anaconda3\\envs\\golf\\lib\\site-packages\\ipykernel_launcher.py:43: RuntimeWarning: invalid value encountered in longlong_scalars\n",
      "c:\\Users\\Shazia Khan\\anaconda3\\envs\\golf\\lib\\site-packages\\ipykernel_launcher.py:45: RuntimeWarning: invalid value encountered in longlong_scalars\n",
      "c:\\Users\\Shazia Khan\\anaconda3\\envs\\golf\\lib\\site-packages\\ipykernel_launcher.py:46: RuntimeWarning: invalid value encountered in true_divide\n"
     ]
    },
    {
     "name": "stdout",
     "output_type": "stream",
     "text": [
      "Confusion Matrix:\n",
      "[[57]]\n",
      "Accuracy: 100.00%, Sensitivity: nan, Specificity: 1.00, Precision: nan, MCC: nan\n",
      "\n",
      "Fold 8\n",
      "Confusion Matrix:\n",
      "[[37  1]\n",
      " [ 2 17]]\n",
      "Accuracy: 94.74%, Sensitivity: 0.97, Specificity: 0.89, Precision: 0.95, MCC: 0.66\n",
      "\n",
      "Fold 9\n"
     ]
    },
    {
     "name": "stderr",
     "output_type": "stream",
     "text": [
      "c:\\Users\\Shazia Khan\\anaconda3\\envs\\golf\\lib\\site-packages\\ipykernel_launcher.py:44: RuntimeWarning: invalid value encountered in longlong_scalars\n",
      "c:\\Users\\Shazia Khan\\anaconda3\\envs\\golf\\lib\\site-packages\\ipykernel_launcher.py:46: RuntimeWarning: invalid value encountered in true_divide\n"
     ]
    },
    {
     "name": "stdout",
     "output_type": "stream",
     "text": [
      "Confusion Matrix:\n",
      "[[48  9]\n",
      " [ 0  0]]\n",
      "Accuracy: 84.21%, Sensitivity: 0.84, Specificity: nan, Precision: 1.00, MCC: nan\n",
      "\n",
      "Fold 10\n"
     ]
    },
    {
     "name": "stderr",
     "output_type": "stream",
     "text": [
      "c:\\Users\\Shazia Khan\\anaconda3\\envs\\golf\\lib\\site-packages\\ipykernel_launcher.py:44: RuntimeWarning: invalid value encountered in longlong_scalars\n",
      "c:\\Users\\Shazia Khan\\anaconda3\\envs\\golf\\lib\\site-packages\\ipykernel_launcher.py:46: RuntimeWarning: invalid value encountered in true_divide\n"
     ]
    },
    {
     "name": "stdout",
     "output_type": "stream",
     "text": [
      "Confusion Matrix:\n",
      "[[51  6]\n",
      " [ 0  0]]\n",
      "Accuracy: 89.47%, Sensitivity: 0.89, Specificity: nan, Precision: 1.00, MCC: nan\n",
      "\n",
      "Fold 11\n"
     ]
    },
    {
     "name": "stderr",
     "output_type": "stream",
     "text": [
      "c:\\Users\\Shazia Khan\\anaconda3\\envs\\golf\\lib\\site-packages\\ipykernel_launcher.py:44: RuntimeWarning: invalid value encountered in longlong_scalars\n",
      "c:\\Users\\Shazia Khan\\anaconda3\\envs\\golf\\lib\\site-packages\\ipykernel_launcher.py:46: RuntimeWarning: invalid value encountered in true_divide\n"
     ]
    },
    {
     "name": "stdout",
     "output_type": "stream",
     "text": [
      "Confusion Matrix:\n",
      "[[54  3]\n",
      " [ 0  0]]\n",
      "Accuracy: 94.74%, Sensitivity: 0.95, Specificity: nan, Precision: 1.00, MCC: nan\n",
      "\n",
      "Fold 12\n"
     ]
    },
    {
     "name": "stderr",
     "output_type": "stream",
     "text": [
      "c:\\Users\\Shazia Khan\\anaconda3\\envs\\golf\\lib\\site-packages\\ipykernel_launcher.py:44: RuntimeWarning: invalid value encountered in longlong_scalars\n",
      "c:\\Users\\Shazia Khan\\anaconda3\\envs\\golf\\lib\\site-packages\\ipykernel_launcher.py:46: RuntimeWarning: invalid value encountered in true_divide\n"
     ]
    },
    {
     "name": "stdout",
     "output_type": "stream",
     "text": [
      "Confusion Matrix:\n",
      "[[57]]\n",
      "Accuracy: 100.00%, Sensitivity: 1.00, Specificity: nan, Precision: 1.00, MCC: nan\n",
      "\n",
      "Fold 13\n"
     ]
    },
    {
     "name": "stderr",
     "output_type": "stream",
     "text": [
      "c:\\Users\\Shazia Khan\\anaconda3\\envs\\golf\\lib\\site-packages\\ipykernel_launcher.py:44: RuntimeWarning: invalid value encountered in longlong_scalars\n",
      "c:\\Users\\Shazia Khan\\anaconda3\\envs\\golf\\lib\\site-packages\\ipykernel_launcher.py:46: RuntimeWarning: invalid value encountered in true_divide\n"
     ]
    },
    {
     "name": "stdout",
     "output_type": "stream",
     "text": [
      "Confusion Matrix:\n",
      "[[56  1]\n",
      " [ 0  0]]\n",
      "Accuracy: 98.25%, Sensitivity: 0.98, Specificity: nan, Precision: 1.00, MCC: nan\n",
      "\n",
      "Fold 14\n"
     ]
    },
    {
     "name": "stderr",
     "output_type": "stream",
     "text": [
      "c:\\Users\\Shazia Khan\\anaconda3\\envs\\golf\\lib\\site-packages\\ipykernel_launcher.py:44: RuntimeWarning: invalid value encountered in longlong_scalars\n",
      "c:\\Users\\Shazia Khan\\anaconda3\\envs\\golf\\lib\\site-packages\\ipykernel_launcher.py:46: RuntimeWarning: invalid value encountered in true_divide\n"
     ]
    },
    {
     "name": "stdout",
     "output_type": "stream",
     "text": [
      "Confusion Matrix:\n",
      "[[40 17]\n",
      " [ 0  0]]\n",
      "Accuracy: 70.18%, Sensitivity: 0.70, Specificity: nan, Precision: 1.00, MCC: nan\n",
      "\n",
      "Fold 15\n",
      "Confusion Matrix:\n",
      "[[32 10]\n",
      " [ 1 14]]\n",
      "Accuracy: 80.70%, Sensitivity: 0.76, Specificity: 0.93, Precision: 0.97, MCC: 0.45\n",
      "\n",
      "Fold 16\n"
     ]
    },
    {
     "name": "stderr",
     "output_type": "stream",
     "text": [
      "c:\\Users\\Shazia Khan\\anaconda3\\envs\\golf\\lib\\site-packages\\ipykernel_launcher.py:43: RuntimeWarning: invalid value encountered in longlong_scalars\n",
      "c:\\Users\\Shazia Khan\\anaconda3\\envs\\golf\\lib\\site-packages\\ipykernel_launcher.py:46: RuntimeWarning: invalid value encountered in true_divide\n"
     ]
    },
    {
     "name": "stdout",
     "output_type": "stream",
     "text": [
      "Confusion Matrix:\n",
      "[[ 0  0]\n",
      " [ 1 56]]\n",
      "Accuracy: 98.25%, Sensitivity: nan, Specificity: 0.98, Precision: 0.00, MCC: nan\n",
      "\n",
      "Fold 17\n"
     ]
    },
    {
     "name": "stderr",
     "output_type": "stream",
     "text": [
      "c:\\Users\\Shazia Khan\\anaconda3\\envs\\golf\\lib\\site-packages\\ipykernel_launcher.py:43: RuntimeWarning: invalid value encountered in longlong_scalars\n",
      "c:\\Users\\Shazia Khan\\anaconda3\\envs\\golf\\lib\\site-packages\\ipykernel_launcher.py:46: RuntimeWarning: invalid value encountered in true_divide\n"
     ]
    },
    {
     "name": "stdout",
     "output_type": "stream",
     "text": [
      "Confusion Matrix:\n",
      "[[ 0  0]\n",
      " [ 2 55]]\n",
      "Accuracy: 96.49%, Sensitivity: nan, Specificity: 0.96, Precision: 0.00, MCC: nan\n",
      "\n",
      "Fold 18\n",
      "Confusion Matrix:\n",
      "[[36  0]\n",
      " [ 7 14]]\n",
      "Accuracy: 87.72%, Sensitivity: 1.00, Specificity: 0.67, Precision: 0.84, MCC: 0.65\n",
      "\n",
      "Fold 19\n"
     ]
    },
    {
     "name": "stderr",
     "output_type": "stream",
     "text": [
      "c:\\Users\\Shazia Khan\\anaconda3\\envs\\golf\\lib\\site-packages\\ipykernel_launcher.py:44: RuntimeWarning: invalid value encountered in longlong_scalars\n",
      "c:\\Users\\Shazia Khan\\anaconda3\\envs\\golf\\lib\\site-packages\\ipykernel_launcher.py:46: RuntimeWarning: invalid value encountered in true_divide\n"
     ]
    },
    {
     "name": "stdout",
     "output_type": "stream",
     "text": [
      "Confusion Matrix:\n",
      "[[57]]\n",
      "Accuracy: 100.00%, Sensitivity: 1.00, Specificity: nan, Precision: 1.00, MCC: nan\n",
      "\n",
      "Fold 20\n"
     ]
    },
    {
     "name": "stderr",
     "output_type": "stream",
     "text": [
      "c:\\Users\\Shazia Khan\\anaconda3\\envs\\golf\\lib\\site-packages\\ipykernel_launcher.py:44: RuntimeWarning: invalid value encountered in longlong_scalars\n",
      "c:\\Users\\Shazia Khan\\anaconda3\\envs\\golf\\lib\\site-packages\\ipykernel_launcher.py:46: RuntimeWarning: invalid value encountered in true_divide\n"
     ]
    },
    {
     "name": "stdout",
     "output_type": "stream",
     "text": [
      "Confusion Matrix:\n",
      "[[53  4]\n",
      " [ 0  0]]\n",
      "Accuracy: 92.98%, Sensitivity: 0.93, Specificity: nan, Precision: 1.00, MCC: nan\n",
      "\n",
      "Average Accuracy across 20 folds: 88.73%\n"
     ]
    },
    {
     "name": "stderr",
     "output_type": "stream",
     "text": [
      "c:\\Users\\Shazia Khan\\anaconda3\\envs\\golf\\lib\\site-packages\\numpy\\core\\_asarray.py:136: VisibleDeprecationWarning: Creating an ndarray from ragged nested sequences (which is a list-or-tuple of lists-or-tuples-or ndarrays with different lengths or shapes) is deprecated. If you meant to do this, you must specify 'dtype=object' when creating the ndarray\n",
      "  return array(a, dtype, copy=False, order=order, subok=True)\n"
     ]
    },
    {
     "data": {
      "image/png": "[encoded data removed]",
      "text/plain": [
       "<Figure size 432x288 with 2 Axes>"
      ]
     },
     "metadata": {
      "needs_background": "light"
     },
     "output_type": "display_data"
    }
   ],
   "source": [
    "import numpy as np\n",
    "import pandas as pd\n",
    "from sklearn.model_selection import KFold\n",
    "from sklearn.preprocessing import StandardScaler\n",
    "from sklearn.ensemble import RandomForestClassifier\n",
    "from sklearn.metrics import confusion_matrix\n",
    "import matplotlib.pyplot as plt\n",
    "\n",
    "random_state = np.random.RandomState(5)\n",
    "inputSize = 210\n",
    "outputCol = inputSize + 1\n",
    "\n",
    "\n",
    "# Standardize data\n",
    "std_scale = StandardScaler().fit(X)\n",
    "X = std_scale.transform(X)\n",
    "\n",
    "# Print shapes of X and Y\n",
    "shape_X = X.shape\n",
    "shape_Y = Y.shape\n",
    "print('The shape of X is: ' + str(shape_X))\n",
    "print('The shape of Y is: ' + str(shape_Y))\n",
    "\n",
    "kfold = KFold(n_splits=20, shuffle=False)  # Removed Stratified Keyword for JackKnife\n",
    "cvscores = []\n",
    "iterator = 1\n",
    "cv_score = 0\n",
    "for train, test in kfold.split(X, Y):\n",
    "    print(f'\\nFold {iterator}')\n",
    "    X_train, X_test = X[train], X[test]\n",
    "    y_train, y_test = Y[train], Y[test]\n",
    "\n",
    "    # Initialize and fit classifier\n",
    "    clf = RandomForestClassifier(n_estimators=30, max_depth=25, oob_score=True, n_jobs=-1, warm_start=False)\n",
    "    clf.fit(X_train, y_train.ravel())\n",
    "\n",
    "    # Predict on test set\n",
    "    pred = clf.predict(X_test)\n",
    "\n",
    "    # Calculate confusion matrix\n",
    "    tn, fp, fn, tp = confusion_matrix(y_test, pred, labels=[1, 0]).ravel()\n",
    "    acc = ((tn + tp) / (tn + fp + fn + tp)) * 100\n",
    "    sn = tp / (tp + fn)\n",
    "    sp = tn / (tn + fp)\n",
    "    prec = tp / (tp + fp)\n",
    "    mcc = (tp * tn - fp * fn) / np.sqrt((tp + fp) * (tp + fn) * (tn + fn) * (tn + tn))\n",
    "\n",
    "    # Print metrics for the fold\n",
    "    print(f'Confusion Matrix:\\n{confusion_matrix(y_test, pred)}')\n",
    "    print(f'Accuracy: {acc:.2f}%, Sensitivity: {sn:.2f}, Specificity: {sp:.2f}, Precision: {prec:.2f}, MCC: {mcc:.2f}')\n",
    "\n",
    "    # Store scores\n",
    "    cvscores.append([tn, fp, fn, tp, acc, sn, sp, prec, mcc])\n",
    "    iterator += 1\n",
    "\n",
    "# Calculate average scores across all folds\n",
    "avg_scores = np.mean(cvscores, axis=0)\n",
    "avg_acc = np.mean([score[4] for score in cvscores])\n",
    "\n",
    "# Print average scores\n",
    "print(f'\\nAverage Accuracy across {kfold.n_splits} folds: {avg_acc:.2f}%')\n",
    "\n",
    "# Plot average confusion matrix\n",
    "plt.figure()\n",
    "avg_cm = np.mean([confusion_matrix(Y[test], clf.predict(X[test])) for train, test in kfold.split(X, Y)], axis=0)\n",
    "plt.imshow(avg_cm, interpolation='nearest', cmap=plt.cm.Blues)\n",
    "plt.title('Average Confusion Matrix')\n",
    "plt.colorbar()\n",
    "tick_marks = np.arange(len(np.unique(Y)))\n",
    "plt.xticks(tick_marks, ['Predicted 0', 'Predicted 1'])\n",
    "plt.yticks(tick_marks, ['True 0', 'True 1'])\n",
    "\n",
    "# Add text annotations to each cell\n",
    "thresh = avg_cm.max() / 2.\n",
    "for i, j in np.ndindex(avg_cm.shape):\n",
    "    plt.text(j, i, format(avg_cm[i, j], 'd'),\n",
    "             ha=\"center\", va=\"center\",\n",
    "             color=\"white\" if avg_cm[i, j] > thresh else \"black\")\n",
    "\n",
    "plt.ylabel('True label')\n",
    "plt.xlabel('Predicted label')\n",
    "plt.tight_layout()\n",
    "plt.show()\n"
   ]
  },
  {
   "cell_type": "code",
   "execution_count": 41,
   "metadata": {},
   "outputs": [
    {
     "name": "stdout",
     "output_type": "stream",
     "text": [
      "\n",
      "k-fold Cross-Validation\n",
      "The shape of X is: (1144, 210)\n",
      "The shape of Y is: (1144, 1)\n",
      "\n",
      "Fold 1\n",
      "Confusion Matrix:\n",
      "[[34  3]\n",
      " [ 7 14]]\n",
      "Accuracy: 82.76%, Sensitivity: 0.92, Specificity: 0.67, Precision: 0.83, MCC: 0.69\n",
      "\n",
      "Fold 2\n",
      "Confusion Matrix:\n",
      "[[29  1]\n",
      " [ 5 23]]\n",
      "Accuracy: 89.66%, Sensitivity: 0.97, Specificity: 0.82, Precision: 0.85, MCC: 0.86\n",
      "\n",
      "Fold 3\n",
      "Confusion Matrix:\n",
      "[[28  4]\n",
      " [ 1 25]]\n",
      "Accuracy: 91.38%, Sensitivity: 0.88, Specificity: 0.96, Precision: 0.97, MCC: 0.79\n",
      "\n",
      "Fold 4\n",
      "Confusion Matrix:\n",
      "[[34  1]\n",
      " [ 6 17]]\n",
      "Accuracy: 87.93%, Sensitivity: 0.97, Specificity: 0.74, Precision: 0.85, MCC: 0.85\n",
      "\n",
      "Fold 5\n",
      "Confusion Matrix:\n",
      "[[25  2]\n",
      " [ 5 25]]\n",
      "Accuracy: 87.72%, Sensitivity: 0.93, Specificity: 0.83, Precision: 0.83, MCC: 0.80\n",
      "\n",
      "Fold 6\n",
      "Confusion Matrix:\n",
      "[[35  2]\n",
      " [ 0 20]]\n",
      "Accuracy: 96.49%, Sensitivity: 0.95, Specificity: 1.00, Precision: 1.00, MCC: 0.88\n",
      "\n",
      "Fold 7\n",
      "Confusion Matrix:\n",
      "[[24  8]\n",
      " [ 2 23]]\n",
      "Accuracy: 82.46%, Sensitivity: 0.75, Specificity: 0.92, Precision: 0.92, MCC: 0.60\n",
      "\n",
      "Fold 8\n",
      "Confusion Matrix:\n",
      "[[22  6]\n",
      " [ 2 27]]\n",
      "Accuracy: 85.96%, Sensitivity: 0.79, Specificity: 0.93, Precision: 0.92, MCC: 0.68\n",
      "\n",
      "Fold 9\n",
      "Confusion Matrix:\n",
      "[[28  3]\n",
      " [ 6 20]]\n",
      "Accuracy: 84.21%, Sensitivity: 0.90, Specificity: 0.77, Precision: 0.82, MCC: 0.73\n",
      "\n",
      "Fold 10\n",
      "Confusion Matrix:\n",
      "[[26  2]\n",
      " [ 6 23]]\n",
      "Accuracy: 85.96%, Sensitivity: 0.93, Specificity: 0.79, Precision: 0.81, MCC: 0.78\n",
      "\n",
      "Fold 11\n",
      "Confusion Matrix:\n",
      "[[20  2]\n",
      " [ 3 32]]\n",
      "Accuracy: 91.23%, Sensitivity: 0.91, Specificity: 0.91, Precision: 0.87, MCC: 0.83\n",
      "\n",
      "Fold 12\n",
      "Confusion Matrix:\n",
      "[[22  2]\n",
      " [ 2 31]]\n",
      "Accuracy: 92.98%, Sensitivity: 0.92, Specificity: 0.94, Precision: 0.92, MCC: 0.86\n",
      "\n",
      "Fold 13\n",
      "Confusion Matrix:\n",
      "[[32  4]\n",
      " [ 3 18]]\n",
      "Accuracy: 87.72%, Sensitivity: 0.89, Specificity: 0.86, Precision: 0.91, MCC: 0.72\n",
      "\n",
      "Fold 14\n",
      "Confusion Matrix:\n",
      "[[24  7]\n",
      " [ 6 20]]\n",
      "Accuracy: 77.19%, Sensitivity: 0.77, Specificity: 0.77, Precision: 0.80, MCC: 0.53\n",
      "\n",
      "Fold 15\n",
      "Confusion Matrix:\n",
      "[[20  2]\n",
      " [ 7 28]]\n",
      "Accuracy: 84.21%, Sensitivity: 0.91, Specificity: 0.80, Precision: 0.74, MCC: 0.75\n",
      "\n",
      "Fold 16\n",
      "Confusion Matrix:\n",
      "[[24  3]\n",
      " [ 5 25]]\n",
      "Accuracy: 85.96%, Sensitivity: 0.89, Specificity: 0.83, Precision: 0.83, MCC: 0.75\n",
      "\n",
      "Fold 17\n",
      "Confusion Matrix:\n",
      "[[19  0]\n",
      " [ 8 30]]\n",
      "Accuracy: 85.96%, Sensitivity: 1.00, Specificity: 0.79, Precision: 0.70, MCC: 0.84\n",
      "\n",
      "Fold 18\n",
      "Confusion Matrix:\n",
      "[[22  4]\n",
      " [ 3 28]]\n",
      "Accuracy: 87.72%, Sensitivity: 0.85, Specificity: 0.90, Precision: 0.88, MCC: 0.74\n",
      "\n",
      "Fold 19\n",
      "Confusion Matrix:\n",
      "[[25  2]\n",
      " [ 6 24]]\n",
      "Accuracy: 85.96%, Sensitivity: 0.93, Specificity: 0.80, Precision: 0.81, MCC: 0.78\n",
      "\n",
      "Fold 20\n",
      "Confusion Matrix:\n",
      "[[20  1]\n",
      " [ 7 29]]\n",
      "Accuracy: 85.96%, Sensitivity: 0.95, Specificity: 0.81, Precision: 0.74, MCC: 0.80\n",
      "\n",
      "Average Accuracy across 20 folds: 86.97%\n"
     ]
    },
    {
     "ename": "ValueError",
     "evalue": "Unknown format code 'd' for object of type 'float'",
     "output_type": "error",
     "traceback": [
      "\u001b[1;31m---------------------------------------------------------------------------\u001b[0m",
      "\u001b[1;31mValueError\u001b[0m                                Traceback (most recent call last)",
      "\u001b[1;32m<ipython-input-41-6d03634feeac>\u001b[0m in \u001b[0;36m<module>\u001b[1;34m\u001b[0m\n\u001b[0;32m     82\u001b[0m \u001b[0mthresh\u001b[0m \u001b[1;33m=\u001b[0m \u001b[0mavg_cm\u001b[0m\u001b[1;33m.\u001b[0m\u001b[0mmax\u001b[0m\u001b[1;33m(\u001b[0m\u001b[1;33m)\u001b[0m \u001b[1;33m/\u001b[0m \u001b[1;36m2.\u001b[0m\u001b[1;33m\u001b[0m\u001b[1;33m\u001b[0m\u001b[0m\n\u001b[0;32m     83\u001b[0m \u001b[1;32mfor\u001b[0m \u001b[0mi\u001b[0m\u001b[1;33m,\u001b[0m \u001b[0mj\u001b[0m \u001b[1;32min\u001b[0m \u001b[0mnp\u001b[0m\u001b[1;33m.\u001b[0m\u001b[0mndindex\u001b[0m\u001b[1;33m(\u001b[0m\u001b[0mavg_cm\u001b[0m\u001b[1;33m.\u001b[0m\u001b[0mshape\u001b[0m\u001b[1;33m)\u001b[0m\u001b[1;33m:\u001b[0m\u001b[1;33m\u001b[0m\u001b[1;33m\u001b[0m\u001b[0m\n\u001b[1;32m---> 84\u001b[1;33m     plt.text(j, i, format(avg_cm[i, j], 'd'),\n\u001b[0m\u001b[0;32m     85\u001b[0m              \u001b[0mha\u001b[0m\u001b[1;33m=\u001b[0m\u001b[1;34m\"center\"\u001b[0m\u001b[1;33m,\u001b[0m \u001b[0mva\u001b[0m\u001b[1;33m=\u001b[0m\u001b[1;34m\"center\"\u001b[0m\u001b[1;33m,\u001b[0m\u001b[1;33m\u001b[0m\u001b[1;33m\u001b[0m\u001b[0m\n\u001b[0;32m     86\u001b[0m              color=\"white\" if avg_cm[i, j] > thresh else \"black\")\n",
      "\u001b[1;31mValueError\u001b[0m: Unknown format code 'd' for object of type 'float'"
     ]
    },
    {
     "data": {
      "image/png": "[encoded data removed]",
      "text/plain": [
       "<Figure size 432x288 with 2 Axes>"
      ]
     },
     "metadata": {
      "needs_background": "light"
     },
     "output_type": "display_data"
    }
   ],
   "source": [
    "import numpy as np\n",
    "import pandas as pd\n",
    "from sklearn.model_selection import KFold\n",
    "from sklearn.preprocessing import StandardScaler\n",
    "from sklearn.svm import SVC\n",
    "from sklearn.metrics import confusion_matrix\n",
    "import matplotlib.pyplot as plt\n",
    "\n",
    "random_state = np.random.RandomState(5)\n",
    "inputSize = 210\n",
    "outputCol = inputSize + 1\n",
    "\n",
    "# 10 Fold Part\n",
    "print('\\nk-fold Cross-Validation')\n",
    "results = pd.DataFrame(columns=['training_score', 'test_score'])\n",
    "fprs, tprs, scores = [], [], []\n",
    "dataset = np.genfromtxt(\"./Anticancer.csv\", delimiter=\",\", dtype=float)\n",
    "X = dataset[:, 0:inputSize]\n",
    "Y = dataset[:, inputSize:outputCol]\n",
    "\n",
    "# Standardize data\n",
    "std_scale = StandardScaler().fit(X)\n",
    "X = std_scale.transform(X)\n",
    "\n",
    "# Print shapes of X and Y\n",
    "shape_X = X.shape\n",
    "shape_Y = Y.shape\n",
    "print('The shape of X is: ' + str(shape_X))\n",
    "print('The shape of Y is: ' + str(shape_Y))\n",
    "\n",
    "cvscores = []\n",
    "\n",
    "# Perform k-fold Cross-Validation\n",
    "kfold = KFold(n_splits=20, shuffle=True, random_state=random_state)\n",
    "iterator = 1\n",
    "for train, test in kfold.split(X, Y):\n",
    "    print(f'\\nFold {iterator}')\n",
    "    X_train, X_test = X[train], X[test]\n",
    "    y_train, y_test = Y[train], Y[test]\n",
    "\n",
    "    # Initialize and fit classifier\n",
    "    clf = SVC(probability=True, kernel='linear')\n",
    "    clf.fit(X_train, y_train.ravel())\n",
    "\n",
    "    # Predict on test set\n",
    "    pred = clf.predict(X_test)\n",
    "\n",
    "    # Calculate confusion matrix\n",
    "    tn, fp, fn, tp = confusion_matrix(y_test, pred, labels=[1, 0]).ravel()\n",
    "    acc = ((tn + tp)/ (tn + fp + fn + tp)) * 100\n",
    "    sn = tp / (tp + fn)\n",
    "    sp = tn / (tn + fp)\n",
    "    prec = tp / (tp + fp)\n",
    "    mcc = (tp * tn - fp * fn) / np.sqrt((tp + fp) * (tp + fn) * (tn + fn) * (tn + fn))\n",
    "\n",
    "    # Print metrics for the fold\n",
    "    print(f'Confusion Matrix:\\n{confusion_matrix(y_test, pred)}')\n",
    "    print(f'Accuracy: {acc:.2f}%, Sensitivity: {sn:.2f}, Specificity: {sp:.2f}, Precision: {prec:.2f}, MCC: {mcc:.2f}')\n",
    "\n",
    "    # Store scores\n",
    "    cvscores.append([tn, fp, fn, tp, acc, sn, sp, prec, mcc])\n",
    "    iterator += 1\n",
    "\n",
    "# Calculate average scores across all folds\n",
    "avg_scores = np.mean(cvscores, axis=0)\n",
    "avg_acc = np.mean([score[4] for score in cvscores])\n",
    "\n",
    "# Print average scores\n",
    "print(f'\\nAverage Accuracy across {kfold.n_splits} folds: {avg_acc:.2f}%')\n",
    "\n",
    "# Plot average confusion matrix\n",
    "plt.figure()\n",
    "avg_cm = np.mean([confusion_matrix(Y[test], clf.predict(X[test])) for train, test in kfold.split(X, Y)], axis=0)\n",
    "plt.imshow(avg_cm, interpolation='nearest', cmap=plt.cm.Blues)\n",
    "plt.title('Average Confusion Matrix')\n",
    "plt.colorbar()\n",
    "tick_marks = np.arange(len(np.unique(Y)))\n",
    "plt.xticks(tick_marks, ['Predicted 0', 'Predicted 1'])\n",
    "plt.yticks(tick_marks, ['True 0', 'True 1'])\n",
    "\n",
    "# Add text annotations to each cell\n",
    "thresh = avg_cm.max() / 2.\n",
    "for i, j in np.ndindex(avg_cm.shape):\n",
    "    plt.text(j, i, format(avg_cm[i, j], 'd'),\n",
    "             ha=\"center\", va=\"center\",\n",
    "             color=\"white\" if avg_cm[i, j] > thresh else \"black\")\n",
    "\n",
    "plt.ylabel('True label')\n",
    "plt.xlabel('Predicted label')\n",
    "plt.tight_layout()\n",
    "plt.show()\n"
   ]
  }
 ],
 "metadata": {
  "kernelspec": {
   "display_name": "Python 3",
   "language": "python",
   "name": "python3"
  },
  "language_info": {
   "codemirror_mode": {
    "name": "ipython",
    "version": 3
   },
   "file_extension": ".py",
   "mimetype": "text/x-python",
   "name": "python",
   "nbconvert_exporter": "python",
   "pygments_lexer": "ipython3",
   "version": "3.6.13"
  }
 },
 "nbformat": 4,
 "nbformat_minor": 4
}
